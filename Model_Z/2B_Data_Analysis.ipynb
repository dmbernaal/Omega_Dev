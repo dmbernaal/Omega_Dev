{
 "cells": [
  {
   "cell_type": "markdown",
   "metadata": {},
   "source": [
    "# Data Analysis\n",
    "In this specific notebook we will test our ```omega_simulate``` script to run trading simulations. \n",
    "\n",
    "We will combine that script with our other ```omega_analysis``` script to further analysis the distribution.\n",
    "\n",
    "We are essentially looking for an ideal **threshold** measure along with **fair distribution** that is optimized at bringing returns. \n",
    "\n",
    "The reason for this is because we want our CNN to learn a good distribution, one which will create patterns enough for the eye to detect. "
   ]
  },
  {
   "cell_type": "code",
   "execution_count": 1,
   "metadata": {},
   "outputs": [],
   "source": [
    "from omega_simulate import *\n",
    "# from omega_analysis import *\n",
    "import os\n",
    "import matplotlib.pyplot as plt"
   ]
  },
  {
   "cell_type": "code",
   "execution_count": 2,
   "metadata": {},
   "outputs": [],
   "source": [
    "# filtering warning for testing\n",
    "import warnings\n",
    "warnings.filterwarnings(\"ignore\", category=RuntimeWarning) "
   ]
  },
  {
   "cell_type": "code",
   "execution_count": 3,
   "metadata": {},
   "outputs": [],
   "source": [
    "# importing our changes df\n",
    "path = './post_processing/data_fluc/changes_1hr_USDGBP.csv'\n",
    "changes_df = pd.read_csv(path)"
   ]
  },
  {
   "cell_type": "markdown",
   "metadata": {},
   "source": [
    "## Distributions to test\n",
    "We will test the following distributions: \n",
    "\n",
    "**Prediction Windows**\n",
    "* 3hrs\n",
    "* 6hrs\n",
    "* 12hrs\n",
    "* 24hrs\n",
    "* 36hrs\n",
    "* 48hrs\n",
    "\n",
    "**Buy Thresholds**\n",
    "* .002\n",
    "* .005\n",
    "* .01\n",
    "* .02\n",
    "\n",
    "**Sell Thresholds**\n",
    "* 0.0\n",
    "* -0.002\n",
    "* -0.005\n",
    "* -0.01\n",
    "* -0.02"
   ]
  },
  {
   "cell_type": "code",
   "execution_count": 4,
   "metadata": {},
   "outputs": [],
   "source": [
    "# Distributuons to test dict\n",
    "test_dist = {\n",
    "    'prediction_window': [3, 6, 12, 24, 36, 48],\n",
    "    'buy_threshold': [0.002, 0.005, 0.01, 0.02],\n",
    "    'sell_threshold': [0.0, -0.002, -0.005, -0.01, -0.02]\n",
    "}"
   ]
  },
  {
   "cell_type": "markdown",
   "metadata": {},
   "source": [
    "## Helper Function\n",
    "We will create a quick helper function which will wrap around ```omega_simulate``` adding onto what is returned. This wrapper function will call the script directory and also return a histrogram along with frequency of trade with the given ```buy_threshold``` and ```sell_threshold```. \n",
    "\n",
    "This will allow for us to better analysis the trades and distribution without rewriting much code"
   ]
  },
  {
   "cell_type": "code",
   "execution_count": 5,
   "metadata": {},
   "outputs": [],
   "source": [
    "# helper function\n",
    "def analyze_distribution(sequence, buy_threshold, sell_threshold, start_cap, margin_trade=False, print_trades=False):\n",
    "    # checking for margin trading\n",
    "    if margin_trade:\n",
    "        simulate_thresh_test_trade(sequence, buy_threshold, sell_threshold, start_cap, margin_trade=True, print_trades=False)\n",
    "        \n",
    "        # printing trades?\n",
    "        if print_trades:\n",
    "            simulate_thresh_test_trade(sequence, buy_threshold, sell_threshold, start_cap, margin_trade=True, print_trades=True)\n",
    "    \n",
    "    # printing trades?\n",
    "    if print_trades:\n",
    "        simulate_thresh_test_trade(sequence, buy_threshold, sell_threshold, start_cap, print_trades=True)\n",
    "    \n",
    "    # calling our simulation test - without margin trading and no print trading\n",
    "    simulate_thresh_test_trade(sequence, buy_threshold, sell_threshold, start_cap, print_trades=False)\n",
    "    \n",
    "    # plotting our histrogram\n",
    "    # grabbing our window size\n",
    "    window_size = sequence.columns[2]\n",
    "    \n",
    "    try:\n",
    "        plt.hist(sequence[window_size], bins=750, range=(-0.015, 0.015))\n",
    "        plt.plot()\n",
    "    except Exception:\n",
    "        pass\n",
    "    \n",
    "def get_sequence(df_, window):\n",
    "    \"\"\"\n",
    "    Getting our sequence provides the window\n",
    "    \"\"\"\n",
    "    columns = ['open', 'close', str(window)]\n",
    "    return df_[columns].copy()"
   ]
  },
  {
   "cell_type": "markdown",
   "metadata": {},
   "source": [
    "# Testing"
   ]
  },
  {
   "cell_type": "code",
   "execution_count": 6,
   "metadata": {},
   "outputs": [
    {
     "data": {
      "text/plain": [
       "{'prediction_window': [3, 6, 12, 24, 36, 48],\n",
       " 'buy_threshold': [0.002, 0.005, 0.01, 0.02],\n",
       " 'sell_threshold': [0.0, -0.002, -0.005, -0.01, -0.02]}"
      ]
     },
     "execution_count": 6,
     "metadata": {},
     "output_type": "execute_result"
    }
   ],
   "source": [
    "test_dist"
   ]
  },
  {
   "cell_type": "code",
   "execution_count": 7,
   "metadata": {},
   "outputs": [
    {
     "name": "stdout",
     "output_type": "stream",
     "text": [
      "Starting capital: 100000\n",
      "Ending capital: 103670.51706\n",
      "Return on investment: 3%\n",
      "Total Transaction cost: 32.67089\n"
     ]
    },
    {
     "data": {
      "image/png": "[encoded data removed]",
      "text/plain": [
       "<Figure size 432x288 with 1 Axes>"
      ]
     },
     "metadata": {
      "needs_background": "light"
     },
     "output_type": "display_data"
    }
   ],
   "source": [
    "\"\"\"\n",
    "Test A:\n",
    "    Window = 3\n",
    "    buy threshold = 0.01\n",
    "    sell threshold = 0.01\n",
    "    starting capital = 100000\n",
    "\"\"\"\n",
    "\n",
    "# our parameters: CHANGE THESE\n",
    "window = 3\n",
    "buy = 0.01\n",
    "sell = 0.01\n",
    "starting_cap = 100000\n",
    "\n",
    "### ---------------TESTING-------------------###\n",
    "# grabbing our sequence\n",
    "sequence_ = get_sequence(changes_df, window)\n",
    "\n",
    "# running our test\n",
    "analyze_distribution(sequence_, buy, sell, starting_cap, print_trades=False)"
   ]
  },
  {
   "cell_type": "code",
   "execution_count": null,
   "metadata": {},
   "outputs": [],
   "source": []
  },
  {
   "cell_type": "code",
   "execution_count": null,
   "metadata": {},
   "outputs": [],
   "source": []
  },
  {
   "cell_type": "code",
   "execution_count": null,
   "metadata": {},
   "outputs": [],
   "source": []
  },
  {
   "cell_type": "code",
   "execution_count": null,
   "metadata": {},
   "outputs": [],
   "source": []
  },
  {
   "cell_type": "code",
   "execution_count": null,
   "metadata": {},
   "outputs": [],
   "source": []
  },
  {
   "cell_type": "code",
   "execution_count": null,
   "metadata": {},
   "outputs": [],
   "source": []
  },
  {
   "cell_type": "code",
   "execution_count": null,
   "metadata": {},
   "outputs": [],
   "source": []
  },
  {
   "cell_type": "code",
   "execution_count": null,
   "metadata": {},
   "outputs": [],
   "source": []
  },
  {
   "cell_type": "code",
   "execution_count": null,
   "metadata": {},
   "outputs": [],
   "source": []
  },
  {
   "cell_type": "code",
   "execution_count": null,
   "metadata": {},
   "outputs": [],
   "source": []
  },
  {
   "cell_type": "code",
   "execution_count": null,
   "metadata": {},
   "outputs": [],
   "source": []
  },
  {
   "cell_type": "code",
   "execution_count": null,
   "metadata": {},
   "outputs": [],
   "source": []
  },
  {
   "cell_type": "code",
   "execution_count": null,
   "metadata": {},
   "outputs": [],
   "source": []
  },
  {
   "cell_type": "code",
   "execution_count": null,
   "metadata": {},
   "outputs": [],
   "source": []
  },
  {
   "cell_type": "code",
   "execution_count": null,
   "metadata": {},
   "outputs": [],
   "source": []
  },
  {
   "cell_type": "code",
   "execution_count": null,
   "metadata": {},
   "outputs": [],
   "source": []
  },
  {
   "cell_type": "code",
   "execution_count": null,
   "metadata": {},
   "outputs": [],
   "source": []
  },
  {
   "cell_type": "code",
   "execution_count": null,
   "metadata": {},
   "outputs": [],
   "source": []
  },
  {
   "cell_type": "code",
   "execution_count": null,
   "metadata": {},
   "outputs": [],
   "source": []
  },
  {
   "cell_type": "code",
   "execution_count": null,
   "metadata": {},
   "outputs": [],
   "source": []
  },
  {
   "cell_type": "code",
   "execution_count": null,
   "metadata": {},
   "outputs": [],
   "source": []
  },
  {
   "cell_type": "code",
   "execution_count": null,
   "metadata": {},
   "outputs": [],
   "source": []
  },
  {
   "cell_type": "code",
   "execution_count": null,
   "metadata": {},
   "outputs": [],
   "source": []
  },
  {
   "cell_type": "code",
   "execution_count": null,
   "metadata": {},
   "outputs": [],
   "source": []
  },
  {
   "cell_type": "code",
   "execution_count": null,
   "metadata": {},
   "outputs": [],
   "source": []
  },
  {
   "cell_type": "code",
   "execution_count": null,
   "metadata": {},
   "outputs": [],
   "source": []
  },
  {
   "cell_type": "code",
   "execution_count": null,
   "metadata": {},
   "outputs": [],
   "source": []
  },
  {
   "cell_type": "code",
   "execution_count": null,
   "metadata": {},
   "outputs": [],
   "source": []
  },
  {
   "cell_type": "code",
   "execution_count": null,
   "metadata": {},
   "outputs": [],
   "source": []
  },
  {
   "cell_type": "code",
   "execution_count": null,
   "metadata": {},
   "outputs": [],
   "source": []
  },
  {
   "cell_type": "code",
   "execution_count": null,
   "metadata": {},
   "outputs": [],
   "source": []
  },
  {
   "cell_type": "code",
   "execution_count": null,
   "metadata": {},
   "outputs": [],
   "source": []
  },
  {
   "cell_type": "code",
   "execution_count": null,
   "metadata": {},
   "outputs": [],
   "source": []
  },
  {
   "cell_type": "code",
   "execution_count": null,
   "metadata": {},
   "outputs": [],
   "source": []
  },
  {
   "cell_type": "code",
   "execution_count": null,
   "metadata": {},
   "outputs": [],
   "source": []
  },
  {
   "cell_type": "code",
   "execution_count": null,
   "metadata": {},
   "outputs": [],
   "source": []
  },
  {
   "cell_type": "code",
   "execution_count": null,
   "metadata": {},
   "outputs": [],
   "source": []
  },
  {
   "cell_type": "code",
   "execution_count": null,
   "metadata": {},
   "outputs": [],
   "source": []
  },
  {
   "cell_type": "code",
   "execution_count": null,
   "metadata": {},
   "outputs": [],
   "source": []
  },
  {
   "cell_type": "code",
   "execution_count": null,
   "metadata": {},
   "outputs": [],
   "source": []
  },
  {
   "cell_type": "code",
   "execution_count": null,
   "metadata": {},
   "outputs": [],
   "source": []
  },
  {
   "cell_type": "code",
   "execution_count": null,
   "metadata": {},
   "outputs": [],
   "source": []
  },
  {
   "cell_type": "code",
   "execution_count": null,
   "metadata": {},
   "outputs": [],
   "source": []
  },
  {
   "cell_type": "code",
   "execution_count": null,
   "metadata": {},
   "outputs": [],
   "source": []
  },
  {
   "cell_type": "code",
   "execution_count": null,
   "metadata": {},
   "outputs": [],
   "source": []
  },
  {
   "cell_type": "code",
   "execution_count": null,
   "metadata": {},
   "outputs": [],
   "source": []
  }
 ],
 "metadata": {
  "kernelspec": {
   "display_name": "Python 3",
   "language": "python",
   "name": "python3"
  },
  "language_info": {
   "codemirror_mode": {
    "name": "ipython",
    "version": 3
   },
   "file_extension": ".py",
   "mimetype": "text/x-python",
   "name": "python",
   "nbconvert_exporter": "python",
   "pygments_lexer": "ipython3",
   "version": "3.7.3"
  }
 },
 "nbformat": 4,
 "nbformat_minor": 2
}
