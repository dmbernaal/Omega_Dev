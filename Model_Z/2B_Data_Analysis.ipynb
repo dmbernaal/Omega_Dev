{
 "cells": [
  {
   "cell_type": "markdown",
   "metadata": {},
   "source": [
    "# Data Analysis\n",
    "In this specific notebook we will test our ```omega_simulate``` script to run trading simulations. \n",
    "\n",
    "We will combine that script with our other ```omega_analysis``` script to further analysis the distribution.\n",
    "\n",
    "We are essentially looking for an ideal **threshold** measure along with **fair distribution** that is optimized at bringing returns. \n",
    "\n",
    "The reason for this is because we want our CNN to learn a good distribution, one which will create patterns enough for the eye to detect. "
   ]
  },
  {
   "cell_type": "code",
   "execution_count": 1,
   "metadata": {},
   "outputs": [],
   "source": [
    "from omega_simulate import *\n",
    "# from omega_analysis import *\n",
    "import os\n",
    "import matplotlib.pyplot as plt"
   ]
  },
  {
   "cell_type": "code",
   "execution_count": 2,
   "metadata": {},
   "outputs": [],
   "source": [
    "# filtering warning for testing\n",
    "import warnings\n",
    "warnings.filterwarnings(\"ignore\", category=RuntimeWarning) "
   ]
  },
  {
   "cell_type": "code",
   "execution_count": 3,
   "metadata": {},
   "outputs": [],
   "source": [
    "# importing our changes df\n",
    "path = './post_processing/data_fluc/changes_1hr_USDGBP.csv'\n",
    "changes_df = pd.read_csv(path)"
   ]
  },
  {
   "cell_type": "code",
   "execution_count": 4,
   "metadata": {},
   "outputs": [
    {
     "data": {
      "text/html": [
       "<div>\n",
       "<style scoped>\n",
       "    .dataframe tbody tr th:only-of-type {\n",
       "        vertical-align: middle;\n",
       "    }\n",
       "\n",
       "    .dataframe tbody tr th {\n",
       "        vertical-align: top;\n",
       "    }\n",
       "\n",
       "    .dataframe thead th {\n",
       "        text-align: right;\n",
       "    }\n",
       "</style>\n",
       "<table border=\"1\" class=\"dataframe\">\n",
       "  <thead>\n",
       "    <tr style=\"text-align: right;\">\n",
       "      <th></th>\n",
       "      <th>date</th>\n",
       "      <th>open</th>\n",
       "      <th>close</th>\n",
       "      <th>1</th>\n",
       "      <th>2</th>\n",
       "      <th>3</th>\n",
       "      <th>4</th>\n",
       "      <th>5</th>\n",
       "      <th>6</th>\n",
       "      <th>7</th>\n",
       "      <th>...</th>\n",
       "      <th>39</th>\n",
       "      <th>40</th>\n",
       "      <th>41</th>\n",
       "      <th>42</th>\n",
       "      <th>43</th>\n",
       "      <th>44</th>\n",
       "      <th>45</th>\n",
       "      <th>46</th>\n",
       "      <th>47</th>\n",
       "      <th>48</th>\n",
       "    </tr>\n",
       "  </thead>\n",
       "  <tbody>\n",
       "    <tr>\n",
       "      <th>0</th>\n",
       "      <td>2016-01-03 22:00:00</td>\n",
       "      <td>1.47352</td>\n",
       "      <td>1.47354</td>\n",
       "      <td>NaN</td>\n",
       "      <td>NaN</td>\n",
       "      <td>NaN</td>\n",
       "      <td>NaN</td>\n",
       "      <td>NaN</td>\n",
       "      <td>NaN</td>\n",
       "      <td>NaN</td>\n",
       "      <td>...</td>\n",
       "      <td>NaN</td>\n",
       "      <td>NaN</td>\n",
       "      <td>NaN</td>\n",
       "      <td>NaN</td>\n",
       "      <td>NaN</td>\n",
       "      <td>NaN</td>\n",
       "      <td>NaN</td>\n",
       "      <td>NaN</td>\n",
       "      <td>NaN</td>\n",
       "      <td>NaN</td>\n",
       "    </tr>\n",
       "    <tr>\n",
       "      <th>1</th>\n",
       "      <td>2016-01-03 23:00:00</td>\n",
       "      <td>1.47343</td>\n",
       "      <td>1.47356</td>\n",
       "      <td>-0.000075</td>\n",
       "      <td>NaN</td>\n",
       "      <td>NaN</td>\n",
       "      <td>NaN</td>\n",
       "      <td>NaN</td>\n",
       "      <td>NaN</td>\n",
       "      <td>NaN</td>\n",
       "      <td>...</td>\n",
       "      <td>NaN</td>\n",
       "      <td>NaN</td>\n",
       "      <td>NaN</td>\n",
       "      <td>NaN</td>\n",
       "      <td>NaN</td>\n",
       "      <td>NaN</td>\n",
       "      <td>NaN</td>\n",
       "      <td>NaN</td>\n",
       "      <td>NaN</td>\n",
       "      <td>NaN</td>\n",
       "    </tr>\n",
       "    <tr>\n",
       "      <th>2</th>\n",
       "      <td>2016-01-04 00:00:00</td>\n",
       "      <td>1.47364</td>\n",
       "      <td>1.47278</td>\n",
       "      <td>0.000054</td>\n",
       "      <td>0.000068</td>\n",
       "      <td>NaN</td>\n",
       "      <td>NaN</td>\n",
       "      <td>NaN</td>\n",
       "      <td>NaN</td>\n",
       "      <td>NaN</td>\n",
       "      <td>...</td>\n",
       "      <td>NaN</td>\n",
       "      <td>NaN</td>\n",
       "      <td>NaN</td>\n",
       "      <td>NaN</td>\n",
       "      <td>NaN</td>\n",
       "      <td>NaN</td>\n",
       "      <td>NaN</td>\n",
       "      <td>NaN</td>\n",
       "      <td>NaN</td>\n",
       "      <td>NaN</td>\n",
       "    </tr>\n",
       "  </tbody>\n",
       "</table>\n",
       "<p>3 rows × 51 columns</p>\n",
       "</div>"
      ],
      "text/plain": [
       "                  date     open    close         1         2   3   4   5   6  \\\n",
       "0  2016-01-03 22:00:00  1.47352  1.47354       NaN       NaN NaN NaN NaN NaN   \n",
       "1  2016-01-03 23:00:00  1.47343  1.47356 -0.000075       NaN NaN NaN NaN NaN   \n",
       "2  2016-01-04 00:00:00  1.47364  1.47278  0.000054  0.000068 NaN NaN NaN NaN   \n",
       "\n",
       "    7  ...  39  40  41  42  43  44  45  46  47  48  \n",
       "0 NaN  ... NaN NaN NaN NaN NaN NaN NaN NaN NaN NaN  \n",
       "1 NaN  ... NaN NaN NaN NaN NaN NaN NaN NaN NaN NaN  \n",
       "2 NaN  ... NaN NaN NaN NaN NaN NaN NaN NaN NaN NaN  \n",
       "\n",
       "[3 rows x 51 columns]"
      ]
     },
     "execution_count": 4,
     "metadata": {},
     "output_type": "execute_result"
    }
   ],
   "source": [
    "changes_df.head(3)"
   ]
  },
  {
   "cell_type": "markdown",
   "metadata": {},
   "source": [
    "## Distributions to test\n",
    "We will test the following distributions: \n",
    "\n",
    "**Prediction Windows**\n",
    "* 3hrs\n",
    "* 6hrs\n",
    "* 12hrs\n",
    "* 24hrs\n",
    "* 36hrs\n",
    "* 48hrs\n",
    "\n",
    "**Buy Thresholds**\n",
    "* .002\n",
    "* .005\n",
    "* .01\n",
    "* .02\n",
    "\n",
    "**Sell Thresholds**\n",
    "* 0.0\n",
    "* -0.002\n",
    "* -0.005\n",
    "* -0.01\n",
    "* -0.02"
   ]
  },
  {
   "cell_type": "code",
   "execution_count": 5,
   "metadata": {},
   "outputs": [],
   "source": [
    "# Distributuons to test dict\n",
    "test_dist = {\n",
    "    'prediction_window': [3, 6, 12, 24, 36, 48],\n",
    "    'buy_threshold': [0.002, 0.005, 0.01, 0.02],\n",
    "    'sell_threshold': [0.0, -0.002, -0.005, -0.01, -0.02]\n",
    "}"
   ]
  },
  {
   "cell_type": "markdown",
   "metadata": {},
   "source": [
    "## Helper Function\n",
    "We will create a quick helper function which will wrap around ```omega_simulate``` adding onto what is returned. This wrapper function will call the script directory and also return a histrogram along with frequency of trade with the given ```buy_threshold``` and ```sell_threshold```. \n",
    "\n",
    "This will allow for us to better analysis the trades and distribution without rewriting much code"
   ]
  },
  {
   "cell_type": "code",
   "execution_count": 6,
   "metadata": {},
   "outputs": [],
   "source": [
    "# helper function\n",
    "def analyze_distribution_simple(sequence, buy_threshold, start_cap, margin_trade=False, print_trades=False):\n",
    "    # checking for margin trading\n",
    "    if margin_trade:\n",
    "        simulate_thresh_test_trade_simple(sequence, buy_threshold, start_cap, margin_trade=True, print_trades=False)\n",
    "        \n",
    "        # printing trades?\n",
    "        if print_trades:\n",
    "            simulate_thresh_test_trade_simple(sequence, buy_threshold, start_cap, margin_trade=True, print_trades=True)\n",
    "    \n",
    "    # printing trades?\n",
    "    if print_trades:\n",
    "        simulate_thresh_test_trade_simple(sequence, buy_threshold, start_cap, print_trades=True)\n",
    "    \n",
    "    # calling our simulation test - without margin trading and no print trading\n",
    "    simulate_thresh_test_trade_simple(sequence, buy_threshold, start_cap, print_trades=False)\n",
    "    \n",
    "    # plotting our histrogram\n",
    "    # grabbing our window size\n",
    "    window_size = sequence.columns[2]\n",
    "    \n",
    "    try:\n",
    "        plt.hist(sequence[window_size], bins=750, range=(-0.015, 0.015))\n",
    "        plt.plot()\n",
    "    except Exception:\n",
    "        pass\n",
    "    \n",
    "def analyze_distribution_best(sequence, buy_threshold, start_cap, margin_trade=False, print_trades=False):\n",
    "    # checking for margin trading\n",
    "    if margin_trade:\n",
    "        simulate_thresh_test_trade_best(sequence, buy_threshold, start_cap, margin_trade=True, print_trades=False)\n",
    "        \n",
    "        # printing trades?\n",
    "        if print_trades:\n",
    "            simulate_thresh_test_trade_best(sequence, buy_threshold, start_cap, margin_trade=True, print_trades=True)\n",
    "    \n",
    "    # printing trades?\n",
    "    if print_trades:\n",
    "        simulate_thresh_test_trade_best(sequence, buy_threshold, start_cap, print_trades=True)\n",
    "    \n",
    "    # calling our simulation test - without margin trading and no print trading\n",
    "    simulate_thresh_test_trade_best(sequence, buy_threshold, start_cap, print_trades=False)\n",
    "    \n",
    "    # plotting our histrogram\n",
    "    # grabbing our window size\n",
    "    window_size = sequence.columns[2]\n",
    "    \n",
    "    try:\n",
    "        plt.hist(sequence[window_size], bins=750, range=(-0.015, 0.015))\n",
    "        plt.plot()\n",
    "    except Exception:\n",
    "        pass\n",
    "    \n",
    "def get_sequence(df_, window):\n",
    "    \"\"\"\n",
    "    Getting our sequence provides the window\n",
    "    \"\"\"\n",
    "    columns = ['open', 'close', str(window)]\n",
    "    return df_[columns].copy()"
   ]
  },
  {
   "cell_type": "markdown",
   "metadata": {},
   "source": [
    "# Testing"
   ]
  },
  {
   "cell_type": "code",
   "execution_count": 7,
   "metadata": {},
   "outputs": [
    {
     "data": {
      "text/plain": [
       "{'prediction_window': [3, 6, 12, 24, 36, 48],\n",
       " 'buy_threshold': [0.002, 0.005, 0.01, 0.02],\n",
       " 'sell_threshold': [0.0, -0.002, -0.005, -0.01, -0.02]}"
      ]
     },
     "execution_count": 7,
     "metadata": {},
     "output_type": "execute_result"
    }
   ],
   "source": [
    "test_dist"
   ]
  },
  {
   "cell_type": "code",
   "execution_count": 8,
   "metadata": {},
   "outputs": [
    {
     "name": "stdout",
     "output_type": "stream",
     "text": [
      "----------------------------------------\n",
      "Buying\n",
      "open     1.410200\n",
      "close    1.411760\n",
      "3        0.001534\n",
      "Name: 1268, dtype: float64\n",
      "capital: 99995.03896\n",
      "bought at: 1.41098\n",
      "transaction cost: 4.961040000000001\n",
      "bought 70869 shares\n",
      "\n",
      "\n",
      "Selling\n",
      "open     1.427140\n",
      "close    1.426360\n",
      "3        0.010894\n",
      "Name: 1271, dtype: float64\n",
      "capital: 101135.32117000002\n",
      "sold at: 1.42714\n",
      "transaction cost: 4.96083\n",
      "sold 70869 shares\n",
      "\n",
      "----------------------------------------\n",
      "Buying\n",
      "open     1.358160\n",
      "close    1.344780\n",
      "3       -0.064873\n",
      "Name: 2982, dtype: float64\n",
      "capital: 101130.08286000002\n",
      "bought at: 1.35147\n",
      "transaction cost: 5.23831\n",
      "bought 74829 shares\n",
      "\n",
      "\n",
      "Selling\n",
      "open     1.367360\n",
      "close    1.360160\n",
      "3        0.016791\n",
      "Name: 2985, dtype: float64\n",
      "capital: 102313.87764000004\n",
      "sold at: 1.36736\n",
      "transaction cost: 5.23803\n",
      "sold 74829 shares\n",
      "\n",
      "----------------------------------------\n",
      "Buying\n",
      "open     1.367360\n",
      "close    1.360160\n",
      "3        0.016791\n",
      "Name: 2985, dtype: float64\n",
      "capital: 102308.62603000003\n",
      "bought at: 1.36376\n",
      "transaction cost: 5.25161\n",
      "bought 75019 shares\n",
      "\n",
      "\n",
      "Selling\n",
      "open     1.39075\n",
      "close    1.39114\n",
      "3        0.02249\n",
      "Name: 2988, dtype: float64\n",
      "capital: 104328.13751000002\n",
      "sold at: 1.39075\n",
      "transaction cost: 5.25133\n",
      "sold 75019 shares\n",
      "\n",
      "----------------------------------------\n",
      "Buying\n",
      "open     1.376720\n",
      "close    1.362100\n",
      "3        0.006845\n",
      "Name: 2993, dtype: float64\n",
      "capital: 104322.80463000001\n",
      "bought at: 1.3694100000000002\n",
      "transaction cost: 5.332879999999999\n",
      "bought 76180 shares\n",
      "\n",
      "\n",
      "Selling\n",
      "open     1.375770\n",
      "close    1.373800\n",
      "3        0.010036\n",
      "Name: 2996, dtype: float64\n",
      "capital: 104801.97683000001\n",
      "sold at: 1.3757700000000002\n",
      "transaction cost: 5.3326\n",
      "sold 76180 shares\n",
      "\n",
      "----------------------------------------\n",
      "Buying\n",
      "open     1.212230\n",
      "close    1.211640\n",
      "3       -0.001047\n",
      "Name: 4848, dtype: float64\n",
      "capital: 104795.92365000001\n",
      "bought at: 1.211935\n",
      "transaction cost: 6.053179999999999\n",
      "bought 86469 shares\n",
      "\n",
      "\n",
      "Selling\n",
      "open     1.227340\n",
      "close    1.226130\n",
      "3        0.012958\n",
      "Name: 4851, dtype: float64\n",
      "capital: 106121.92576500002\n",
      "sold at: 1.22734\n",
      "transaction cost: 6.052829999999999\n",
      "sold 86469 shares\n",
      "\n",
      "----------------------------------------\n",
      "Buying\n",
      "open     1.216960\n",
      "close    1.216160\n",
      "3        0.004059\n",
      "Name: 6466, dtype: float64\n",
      "capital: 106115.81959500002\n",
      "bought at: 1.2165599999999999\n",
      "transaction cost: 6.1061700000000005\n",
      "bought 87226 shares\n",
      "\n",
      "\n",
      "Selling\n",
      "open     1.231860\n",
      "close    1.233350\n",
      "3        0.012909\n",
      "Name: 6469, dtype: float64\n",
      "capital: 107444.27157500004\n",
      "sold at: 1.23186\n",
      "transaction cost: 6.10582\n",
      "sold 87226 shares\n",
      "\n",
      "----------------------------------------\n",
      "Buying\n",
      "open     1.320480\n",
      "close    1.321020\n",
      "3       -0.000666\n",
      "Name: 10595, dtype: float64\n",
      "capital: 107438.57707500004\n",
      "bought at: 1.32075\n",
      "transaction cost: 5.6945\n",
      "bought 81346 shares\n",
      "\n",
      "\n",
      "Selling\n",
      "open     1.33670\n",
      "close    1.33571\n",
      "3        0.01187\n",
      "Name: 10598, dtype: float64\n",
      "capital: 108730.35155500003\n",
      "sold at: 1.3367\n",
      "transaction cost: 5.69422\n",
      "sold 81346 shares\n",
      "\n",
      "----------------------------------------\n",
      "Buying\n",
      "open     1.343680\n",
      "close    1.343280\n",
      "3        0.002567\n",
      "Name: 10616, dtype: float64\n",
      "capital: 108724.68638500004\n",
      "bought at: 1.34348\n",
      "transaction cost: 5.66517\n",
      "bought 80927 shares\n",
      "\n",
      "\n",
      "Selling\n",
      "open     1.358080\n",
      "close    1.358260\n",
      "3        0.011018\n",
      "Name: 10619, dtype: float64\n",
      "capital: 109900.55569500003\n",
      "sold at: 1.35808\n",
      "transaction cost: 5.664890000000001\n",
      "sold 80927 shares\n",
      "\n",
      "Starting capital: 100000\n",
      "Ending capital: 109900.55569500003\n",
      "Return on investment: 9%\n",
      "Total Transaction cost: 88.60341\n",
      "Starting capital: 100000\n",
      "Ending capital: 109900.55569500003\n",
      "Return on investment: 9%\n",
      "Total Transaction cost: 88.60341\n"
     ]
    },
    {
     "data": {
      "image/png": "[encoded data removed]",
      "text/plain": [
       "<Figure size 432x288 with 1 Axes>"
      ]
     },
     "metadata": {
      "needs_background": "light"
     },
     "output_type": "display_data"
    }
   ],
   "source": [
    "\"\"\"\n",
    "Test A:\n",
    "    Window = 3\n",
    "    buy threshold = 0.01\n",
    "    starting capital = 100000\n",
    "\"\"\"\n",
    "\n",
    "# our parameters: CHANGE THESE\n",
    "window = 3\n",
    "buy = 0.01\n",
    "starting_cap = 100000\n",
    "\n",
    "### ---------------TESTING-------------------###\n",
    "# grabbing our sequence\n",
    "sequence_ = get_sequence(changes_df, window)\n",
    "\n",
    "# running our test\n",
    "analyze_distribution_simple(sequence_, buy, starting_cap, print_trades=True)"
   ]
  },
  {
   "cell_type": "code",
   "execution_count": 9,
   "metadata": {},
   "outputs": [],
   "source": [
    "# sequence_.iloc[1266:1273]"
   ]
  },
  {
   "cell_type": "code",
   "execution_count": 10,
   "metadata": {},
   "outputs": [],
   "source": [
    "# changes_df.iloc[1266:1273]"
   ]
  },
  {
   "cell_type": "code",
   "execution_count": 11,
   "metadata": {},
   "outputs": [],
   "source": [
    "# b = changes_df.iloc[1268]['close']\n",
    "# o = changes_df.iloc[1271]['open']\n",
    "\n",
    "# diff = (o - b) / o\n",
    "# diff"
   ]
  },
  {
   "cell_type": "code",
   "execution_count": null,
   "metadata": {},
   "outputs": [],
   "source": []
  },
  {
   "cell_type": "code",
   "execution_count": null,
   "metadata": {},
   "outputs": [],
   "source": []
  },
  {
   "cell_type": "code",
   "execution_count": null,
   "metadata": {},
   "outputs": [],
   "source": []
  },
  {
   "cell_type": "code",
   "execution_count": null,
   "metadata": {},
   "outputs": [],
   "source": []
  },
  {
   "cell_type": "code",
   "execution_count": null,
   "metadata": {},
   "outputs": [],
   "source": []
  },
  {
   "cell_type": "code",
   "execution_count": null,
   "metadata": {},
   "outputs": [],
   "source": []
  },
  {
   "cell_type": "code",
   "execution_count": null,
   "metadata": {},
   "outputs": [],
   "source": []
  },
  {
   "cell_type": "code",
   "execution_count": null,
   "metadata": {},
   "outputs": [],
   "source": []
  },
  {
   "cell_type": "code",
   "execution_count": null,
   "metadata": {},
   "outputs": [],
   "source": []
  },
  {
   "cell_type": "code",
   "execution_count": null,
   "metadata": {},
   "outputs": [],
   "source": []
  },
  {
   "cell_type": "code",
   "execution_count": null,
   "metadata": {},
   "outputs": [],
   "source": []
  },
  {
   "cell_type": "code",
   "execution_count": null,
   "metadata": {},
   "outputs": [],
   "source": []
  },
  {
   "cell_type": "code",
   "execution_count": null,
   "metadata": {},
   "outputs": [],
   "source": []
  },
  {
   "cell_type": "code",
   "execution_count": null,
   "metadata": {},
   "outputs": [],
   "source": []
  },
  {
   "cell_type": "code",
   "execution_count": null,
   "metadata": {},
   "outputs": [],
   "source": []
  },
  {
   "cell_type": "code",
   "execution_count": null,
   "metadata": {},
   "outputs": [],
   "source": []
  },
  {
   "cell_type": "code",
   "execution_count": null,
   "metadata": {},
   "outputs": [],
   "source": []
  },
  {
   "cell_type": "code",
   "execution_count": null,
   "metadata": {},
   "outputs": [],
   "source": []
  },
  {
   "cell_type": "code",
   "execution_count": null,
   "metadata": {},
   "outputs": [],
   "source": []
  },
  {
   "cell_type": "code",
   "execution_count": null,
   "metadata": {},
   "outputs": [],
   "source": []
  },
  {
   "cell_type": "code",
   "execution_count": null,
   "metadata": {},
   "outputs": [],
   "source": []
  },
  {
   "cell_type": "code",
   "execution_count": null,
   "metadata": {},
   "outputs": [],
   "source": []
  },
  {
   "cell_type": "code",
   "execution_count": null,
   "metadata": {},
   "outputs": [],
   "source": []
  },
  {
   "cell_type": "code",
   "execution_count": null,
   "metadata": {},
   "outputs": [],
   "source": []
  },
  {
   "cell_type": "code",
   "execution_count": null,
   "metadata": {},
   "outputs": [],
   "source": []
  },
  {
   "cell_type": "code",
   "execution_count": null,
   "metadata": {},
   "outputs": [],
   "source": []
  },
  {
   "cell_type": "code",
   "execution_count": null,
   "metadata": {},
   "outputs": [],
   "source": []
  },
  {
   "cell_type": "code",
   "execution_count": null,
   "metadata": {},
   "outputs": [],
   "source": []
  },
  {
   "cell_type": "code",
   "execution_count": null,
   "metadata": {},
   "outputs": [],
   "source": []
  },
  {
   "cell_type": "code",
   "execution_count": 12,
   "metadata": {},
   "outputs": [],
   "source": [
    "# def simulate_thresh_test_trade_simple(sequence, buy_threshold, start_cap, print_trades=True, return_attr=True, margin_trading=False):\n",
    "#     \"\"\"\n",
    "#     This function will simulate a trade when given a sequence dataframe with a specific column holding percentage change values. This will follow a simple trading rule in which we will buy upon buy_threshold which will mimic our CNN and sell at the prediction window. \n",
    "    \n",
    "#     This is an 'absolute' ideal trading simulation in which the threshold simulates what a product will produce. We are assuming we get every trade right\n",
    "    \n",
    "#     This is an 'absolute' ideal trading simulation in which the threshold simulates what a product will produce. We are assuming we get every trade right\n",
    "    \n",
    "#     ARGS:\n",
    "#         sequence: <pandas.DataFrame> should contain: open, close, percentage change: example ['24'] represent percent change in 24 hour window.\n",
    "#             column 1 = open or close\n",
    "#             column 2 = open or close\n",
    "#             column 3 = change window: example: '24' = 24 hour window\n",
    "        \n",
    "#         buy_threshold: <float> represents how much % of a change in sequence['change_window'] must there be for this to be a buy?\n",
    "        \n",
    "#         start_cap: <int or float> represents our starting capital\n",
    "        \n",
    "#         window_size: <int> represents how large of a window this can also be set from int(sequence['change_window'])\n",
    "        \n",
    "#         print_trades: <boolean> if True, this will print every trade made \n",
    "    \n",
    "#     RETURNS:\n",
    "#         start_cap, bc, roi, buy_threshold, sell_threshold, change_window\n",
    "    \n",
    "#     ALGORITHM:\n",
    "#     if pn0 > x && bc > 0 && h == 0:\n",
    "#         grab opening price tn0\n",
    "#         buy shares with bc at tn0\n",
    "#         update bc to 0\n",
    "#         sell at pn0\n",
    "#         next el\n",
    "\n",
    "#     else:\n",
    "#         pass\n",
    "#     \"\"\"\n",
    "#     # setting our parameters\n",
    "#     x_p = buy_threshold\n",
    "#     pni = 0\n",
    "    \n",
    "#     bc = start_cap\n",
    "#     starting_cap = start_cap\n",
    "    \n",
    "#     h = 0 # how many assets we own\n",
    "    \n",
    "#     change_window = sequence.columns[2] # column with change window size\n",
    "    \n",
    "#     start_idx = 0\n",
    "#     end_idx = int(change_window)\n",
    "    \n",
    "#     # tracking metrics\n",
    "#     total_transaction_costs = 0\n",
    "    \n",
    "#     # checking for margin trading\n",
    "#     if margin_trading:\n",
    "#         bc = margin_trade(bc)\n",
    "#         beginning_leverage = bc\n",
    "    \n",
    "#     # Trading\n",
    "#     for i in range(len(sequence)):\n",
    "        \n",
    "#         # grabbing window\n",
    "#         window = sequence.iloc[start_idx:end_idx]\n",
    "        \n",
    "#         # buying trade if buy threshold met\n",
    "#         if window.iloc[-1][change_window] >= buy_threshold and bc > 0 and h == 0:\n",
    "            \n",
    "#             # grabbing end and beginning of window\n",
    "#             pn0 = window.iloc[-1]\n",
    "#             pni = pn0['open']\n",
    "#             tn0 = window.iloc[0]\n",
    "            \n",
    "#             # buying mid\n",
    "#             tni = (tn0['open'] + tn0['close']) / 2 # buying the opening price\n",
    "            \n",
    "#             # calculating how many shares we can buy with our current capital - without trasaction cost included\n",
    "#             h_pre = math.floor(bc / tni)\n",
    "            \n",
    "#             # calculating our cost of the trade - using core\n",
    "#             core_cost = omega_oanda_core_cost(h_pre)\n",
    "#             total_transaction_costs += core_cost\n",
    "            \n",
    "#             # updating our capital - charging the core cost of the trade\n",
    "#             bc = bc - core_cost\n",
    "            \n",
    "#             # buying h shares with core cost included\n",
    "#             h = math.floor(bc / tni)\n",
    "            \n",
    "#             if print_trades:\n",
    "#                 print('----------------------------------------')\n",
    "#                 print('Buying')\n",
    "#                 print(tn0)\n",
    "#                 print(f'capital: {bc}')\n",
    "#                 print(f'bought at: {tni}')\n",
    "#                 print(f'transaction cost: {core_cost}')\n",
    "#                 print(f'bought {h} shares\\n\\n')\n",
    "            \n",
    "#             # updating our capital to what is left over\n",
    "#             bc = bc - (h * tni)\n",
    "            \n",
    "#         if window.iloc[-1].name == pn0.name and h > 0:\n",
    "#             # Selling - end of window\n",
    "#             bc = bc + (h * pni)\n",
    "            \n",
    "#             # calculating our core cost\n",
    "#             core_cost = omega_oanda_core_cost(h)\n",
    "#             total_transaction_costs += core_cost\n",
    "            \n",
    "#             # upating our capital with core cost\n",
    "#             bc = bc - core_cost\n",
    "            \n",
    "#             if print_trades:\n",
    "#                 print('Selling')\n",
    "#                 print(pn0)\n",
    "#                 print(f'capital: {bc}')\n",
    "#                 print(f'sold at: {pni}')\n",
    "#                 print(f'transaction cost: {core_cost}')\n",
    "#                 print(f'sold {h} shares\\n')\n",
    "                \n",
    "#             # updating shares own - sold all\n",
    "#             h = 0\n",
    "            \n",
    "#         # no threshold met - we HOLD\n",
    "#         else:\n",
    "#             pass\n",
    "        \n",
    "#         # moving window\n",
    "#         start_idx += 1\n",
    "#         end_idx += 1\n",
    "        \n",
    "#         # updating our sell threshold\n",
    "        \n",
    "    \n",
    "#     # update our buying capital if we haven't sold\n",
    "#     if bc > 0 and bc < 100 and h > 0:\n",
    "#         print('Selling off shares, a sell execution was not triggered but we are displaying this for the sake of displaying metrics')\n",
    "#         bc = bc + (h * tnf) \n",
    "#         core_cost = omega_oanda_core_cost(h)\n",
    "#         total_transaction_costs += core_cost\n",
    "#         bc = bc - core_cost\n",
    "    \n",
    "#     roi = ((bc - starting_cap) / starting_cap) * 100\n",
    "#     roi = int(roi)\n",
    "    \n",
    "#     # logging our performance\n",
    "#     print(f'Starting capital: {start_cap}')\n",
    "#     if margin_trading:\n",
    "#         print(f'Beginning Leverage: {beginning_leverage}')\n",
    "#     print(f'Ending capital: {bc}')\n",
    "#     print(f'Return on investment: {roi}%')\n",
    "#     print(f'Total Transaction cost: {total_transaction_costs}')\n",
    "    \n",
    "#     if return_attr:\n",
    "#         # returning metrics & others\n",
    "#         return start_cap, bc, roi, buy_threshold, change_window"
   ]
  },
  {
   "cell_type": "code",
   "execution_count": null,
   "metadata": {},
   "outputs": [],
   "source": []
  },
  {
   "cell_type": "code",
   "execution_count": null,
   "metadata": {},
   "outputs": [],
   "source": []
  },
  {
   "cell_type": "code",
   "execution_count": null,
   "metadata": {},
   "outputs": [],
   "source": []
  },
  {
   "cell_type": "code",
   "execution_count": null,
   "metadata": {},
   "outputs": [],
   "source": []
  },
  {
   "cell_type": "code",
   "execution_count": null,
   "metadata": {},
   "outputs": [],
   "source": []
  },
  {
   "cell_type": "code",
   "execution_count": null,
   "metadata": {},
   "outputs": [],
   "source": []
  },
  {
   "cell_type": "code",
   "execution_count": null,
   "metadata": {},
   "outputs": [],
   "source": []
  },
  {
   "cell_type": "code",
   "execution_count": null,
   "metadata": {},
   "outputs": [],
   "source": []
  },
  {
   "cell_type": "code",
   "execution_count": null,
   "metadata": {},
   "outputs": [],
   "source": []
  },
  {
   "cell_type": "code",
   "execution_count": null,
   "metadata": {},
   "outputs": [],
   "source": []
  },
  {
   "cell_type": "code",
   "execution_count": null,
   "metadata": {},
   "outputs": [],
   "source": []
  },
  {
   "cell_type": "code",
   "execution_count": null,
   "metadata": {},
   "outputs": [],
   "source": []
  },
  {
   "cell_type": "code",
   "execution_count": null,
   "metadata": {},
   "outputs": [],
   "source": []
  },
  {
   "cell_type": "code",
   "execution_count": null,
   "metadata": {},
   "outputs": [],
   "source": []
  },
  {
   "cell_type": "code",
   "execution_count": null,
   "metadata": {},
   "outputs": [],
   "source": []
  },
  {
   "cell_type": "code",
   "execution_count": null,
   "metadata": {},
   "outputs": [],
   "source": []
  },
  {
   "cell_type": "code",
   "execution_count": null,
   "metadata": {},
   "outputs": [],
   "source": []
  },
  {
   "cell_type": "code",
   "execution_count": null,
   "metadata": {},
   "outputs": [],
   "source": []
  },
  {
   "cell_type": "code",
   "execution_count": null,
   "metadata": {},
   "outputs": [],
   "source": []
  },
  {
   "cell_type": "code",
   "execution_count": null,
   "metadata": {},
   "outputs": [],
   "source": []
  },
  {
   "cell_type": "code",
   "execution_count": null,
   "metadata": {},
   "outputs": [],
   "source": []
  },
  {
   "cell_type": "code",
   "execution_count": null,
   "metadata": {},
   "outputs": [],
   "source": []
  },
  {
   "cell_type": "code",
   "execution_count": null,
   "metadata": {},
   "outputs": [],
   "source": []
  },
  {
   "cell_type": "code",
   "execution_count": null,
   "metadata": {},
   "outputs": [],
   "source": []
  },
  {
   "cell_type": "code",
   "execution_count": null,
   "metadata": {},
   "outputs": [],
   "source": []
  },
  {
   "cell_type": "code",
   "execution_count": null,
   "metadata": {},
   "outputs": [],
   "source": []
  },
  {
   "cell_type": "code",
   "execution_count": null,
   "metadata": {},
   "outputs": [],
   "source": []
  },
  {
   "cell_type": "code",
   "execution_count": null,
   "metadata": {},
   "outputs": [],
   "source": []
  },
  {
   "cell_type": "code",
   "execution_count": null,
   "metadata": {},
   "outputs": [],
   "source": []
  },
  {
   "cell_type": "code",
   "execution_count": null,
   "metadata": {},
   "outputs": [],
   "source": []
  },
  {
   "cell_type": "code",
   "execution_count": null,
   "metadata": {},
   "outputs": [],
   "source": []
  },
  {
   "cell_type": "code",
   "execution_count": null,
   "metadata": {},
   "outputs": [],
   "source": []
  },
  {
   "cell_type": "code",
   "execution_count": null,
   "metadata": {},
   "outputs": [],
   "source": []
  },
  {
   "cell_type": "code",
   "execution_count": null,
   "metadata": {},
   "outputs": [],
   "source": []
  },
  {
   "cell_type": "code",
   "execution_count": null,
   "metadata": {},
   "outputs": [],
   "source": []
  },
  {
   "cell_type": "code",
   "execution_count": null,
   "metadata": {},
   "outputs": [],
   "source": []
  },
  {
   "cell_type": "code",
   "execution_count": null,
   "metadata": {},
   "outputs": [],
   "source": []
  },
  {
   "cell_type": "code",
   "execution_count": null,
   "metadata": {},
   "outputs": [],
   "source": []
  },
  {
   "cell_type": "code",
   "execution_count": null,
   "metadata": {},
   "outputs": [],
   "source": []
  },
  {
   "cell_type": "code",
   "execution_count": null,
   "metadata": {},
   "outputs": [],
   "source": []
  },
  {
   "cell_type": "code",
   "execution_count": null,
   "metadata": {},
   "outputs": [],
   "source": []
  },
  {
   "cell_type": "code",
   "execution_count": null,
   "metadata": {},
   "outputs": [],
   "source": []
  },
  {
   "cell_type": "code",
   "execution_count": null,
   "metadata": {},
   "outputs": [],
   "source": []
  },
  {
   "cell_type": "code",
   "execution_count": null,
   "metadata": {},
   "outputs": [],
   "source": []
  },
  {
   "cell_type": "code",
   "execution_count": null,
   "metadata": {},
   "outputs": [],
   "source": []
  },
  {
   "cell_type": "code",
   "execution_count": null,
   "metadata": {},
   "outputs": [],
   "source": []
  },
  {
   "cell_type": "code",
   "execution_count": null,
   "metadata": {},
   "outputs": [],
   "source": []
  },
  {
   "cell_type": "code",
   "execution_count": null,
   "metadata": {},
   "outputs": [],
   "source": []
  },
  {
   "cell_type": "code",
   "execution_count": null,
   "metadata": {},
   "outputs": [],
   "source": []
  },
  {
   "cell_type": "code",
   "execution_count": null,
   "metadata": {},
   "outputs": [],
   "source": []
  },
  {
   "cell_type": "code",
   "execution_count": null,
   "metadata": {},
   "outputs": [],
   "source": []
  },
  {
   "cell_type": "code",
   "execution_count": null,
   "metadata": {},
   "outputs": [],
   "source": []
  },
  {
   "cell_type": "code",
   "execution_count": null,
   "metadata": {},
   "outputs": [],
   "source": []
  },
  {
   "cell_type": "code",
   "execution_count": null,
   "metadata": {},
   "outputs": [],
   "source": []
  },
  {
   "cell_type": "code",
   "execution_count": null,
   "metadata": {},
   "outputs": [],
   "source": []
  },
  {
   "cell_type": "code",
   "execution_count": null,
   "metadata": {},
   "outputs": [],
   "source": []
  },
  {
   "cell_type": "code",
   "execution_count": null,
   "metadata": {},
   "outputs": [],
   "source": []
  },
  {
   "cell_type": "code",
   "execution_count": null,
   "metadata": {},
   "outputs": [],
   "source": []
  },
  {
   "cell_type": "code",
   "execution_count": null,
   "metadata": {},
   "outputs": [],
   "source": []
  },
  {
   "cell_type": "code",
   "execution_count": null,
   "metadata": {},
   "outputs": [],
   "source": []
  },
  {
   "cell_type": "code",
   "execution_count": null,
   "metadata": {},
   "outputs": [],
   "source": []
  },
  {
   "cell_type": "code",
   "execution_count": null,
   "metadata": {},
   "outputs": [],
   "source": []
  },
  {
   "cell_type": "code",
   "execution_count": null,
   "metadata": {},
   "outputs": [],
   "source": []
  },
  {
   "cell_type": "code",
   "execution_count": null,
   "metadata": {},
   "outputs": [],
   "source": []
  },
  {
   "cell_type": "code",
   "execution_count": null,
   "metadata": {},
   "outputs": [],
   "source": []
  },
  {
   "cell_type": "code",
   "execution_count": null,
   "metadata": {},
   "outputs": [],
   "source": []
  },
  {
   "cell_type": "code",
   "execution_count": null,
   "metadata": {},
   "outputs": [],
   "source": []
  },
  {
   "cell_type": "code",
   "execution_count": null,
   "metadata": {},
   "outputs": [],
   "source": []
  },
  {
   "cell_type": "code",
   "execution_count": null,
   "metadata": {},
   "outputs": [],
   "source": []
  },
  {
   "cell_type": "code",
   "execution_count": null,
   "metadata": {},
   "outputs": [],
   "source": []
  },
  {
   "cell_type": "code",
   "execution_count": null,
   "metadata": {},
   "outputs": [],
   "source": []
  },
  {
   "cell_type": "code",
   "execution_count": null,
   "metadata": {},
   "outputs": [],
   "source": []
  },
  {
   "cell_type": "code",
   "execution_count": null,
   "metadata": {},
   "outputs": [],
   "source": []
  },
  {
   "cell_type": "code",
   "execution_count": null,
   "metadata": {},
   "outputs": [],
   "source": []
  },
  {
   "cell_type": "code",
   "execution_count": null,
   "metadata": {},
   "outputs": [],
   "source": []
  },
  {
   "cell_type": "code",
   "execution_count": null,
   "metadata": {},
   "outputs": [],
   "source": []
  }
 ],
 "metadata": {
  "kernelspec": {
   "display_name": "Python 3",
   "language": "python",
   "name": "python3"
  },
  "language_info": {
   "codemirror_mode": {
    "name": "ipython",
    "version": 3
   },
   "file_extension": ".py",
   "mimetype": "text/x-python",
   "name": "python",
   "nbconvert_exporter": "python",
   "pygments_lexer": "ipython3",
   "version": "3.7.3"
  }
 },
 "nbformat": 4,
 "nbformat_minor": 2
}
