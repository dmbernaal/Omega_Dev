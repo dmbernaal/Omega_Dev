{
 "cells": [
  {
   "cell_type": "markdown",
   "metadata": {},
   "source": [
    "# Download Data\n",
    "In this notebook, we will download raw price data of **USDGBP** from the periods of **January, 2016** to **January, 2018**. \n",
    "\n",
    "The reason we pick this timeframe is because it represent a small microcycle of both **bull** and **bearish** markets. We want to train an algorithm on a full cycle of up and down. \n",
    "\n",
    "We will be using **OandaAPI** to download our data.\n",
    "\n",
    "When downloading data from OandaAPI here is the following tick parameter: \n",
    "\n",
    "```python\n",
    "granularity = {\n",
    "    'S5': '5 seconds',\n",
    "    'S10': '10 seconds',\n",
    "    'S15': '15 seconds',\n",
    "    'S30': '30 seconds',\n",
    "    'M1': '1 minute',\n",
    "    'M2': '2 minutes',\n",
    "    'M3': '3 minutes',\n",
    "    'M4': '4 minutes',\n",
    "    'M5': '5 minutes',\n",
    "    'M10': '10 minutes',\n",
    "    'M15': '15 minutes',\n",
    "    'M30': '30 minutes',\n",
    "    'H1': '1 hour',\n",
    "    'H2': '2 hours',\n",
    "    'H3': '3 hours',\n",
    "    'H4': '4 hours',\n",
    "    'H6': '6 hours',\n",
    "    'H8': '8 hours',\n",
    "    'H12': '12 hours',\n",
    "    'D': '1 day',\n",
    "    'W': '1 week',\n",
    "    'M': '1 month'\n",
    "}\n",
    "```"
   ]
  },
  {
   "cell_type": "code",
   "execution_count": 1,
   "metadata": {},
   "outputs": [],
   "source": [
    "# importing our local script\n",
    "from omegaforex import *"
   ]
  },
  {
   "cell_type": "code",
   "execution_count": 4,
   "metadata": {},
   "outputs": [
    {
     "data": {
      "text/plain": [
       "\u001b[1;31mSignature:\u001b[0m \u001b[0mdownload_data\u001b[0m\u001b[1;33m(\u001b[0m\u001b[0mstart_date\u001b[0m\u001b[1;33m,\u001b[0m \u001b[0mend_date\u001b[0m\u001b[1;33m,\u001b[0m \u001b[0mgr\u001b[0m\u001b[1;33m,\u001b[0m \u001b[0minstr\u001b[0m\u001b[1;33m,\u001b[0m \u001b[0mpath\u001b[0m\u001b[1;33m)\u001b[0m\u001b[1;33m\u001b[0m\u001b[1;33m\u001b[0m\u001b[0m\n",
       "\u001b[1;31mDocstring:\u001b[0m\n",
       "This will download raw price action data from OandaAPI and will save it to the path provided in CSV format. \n",
       "\n",
       "ARGS:\n",
       "    start_date: <datetime object> - example: date(2009, 6, 1)\n",
       "    end_date: <datetime object>\n",
       "    gr: <string> - granularity of the data (time intervals). Check readme\n",
       "    instr: <string> - instrument or 'pair' - example: \"GBP_USD\"\n",
       "    path: <string> - path to save the CSV\n",
       "\u001b[1;31mFile:\u001b[0m      c:\\users\\dmber\\documents\\omega\\model_testing\\model_z\\omegaforex.py\n",
       "\u001b[1;31mType:\u001b[0m      function\n"
      ]
     },
     "metadata": {},
     "output_type": "display_data"
    }
   ],
   "source": [
    "# we will use download data function to download our data\n",
    "?download_data"
   ]
  },
  {
   "cell_type": "code",
   "execution_count": 10,
   "metadata": {},
   "outputs": [],
   "source": [
    "# grabbing our current directory\n",
    "root_path = os.curdir"
   ]
  },
  {
   "cell_type": "code",
   "execution_count": 12,
   "metadata": {},
   "outputs": [],
   "source": [
    "# making our data directories - run if they don't exist\n",
    "os.mkdir(f'{root_path}/raw_data')\n",
    "os.mkdir(f'{root_path}/post_processing')\n",
    "os.mkdir(f'{root_path}/model_data')"
   ]
  },
  {
   "cell_type": "code",
   "execution_count": 15,
   "metadata": {},
   "outputs": [],
   "source": [
    "# parameters to download our data\n",
    "\"\"\"\n",
    "In this notebook, we will download raw price data of USDGBP from the periods of January, 2016 to January, 2018. \n",
    "\"\"\"\n",
    "\n",
    "start_date = date(2016, 1, 1)\n",
    "end_date = date(2018, 1, 1)\n",
    "gr = \"H1\"\n",
    "instrument = \"GBP_USD\"\n",
    "path = f'{root_path}/raw_data'"
   ]
  },
  {
   "cell_type": "code",
   "execution_count": 17,
   "metadata": {},
   "outputs": [
    {
     "name": "stdout",
     "output_type": "stream",
     "text": [
      "Saving to path: ./raw_data\n",
      "REQUEST: v3/instruments/GBP_USD/candles InstrumentsCandles {'granularity': 'H1', 'includeFirst': True, 'from': '2016-01-01T00:00:00Z', 'to': '2016-01-21T20:00:00Z'}\n",
      "REQUEST: v3/instruments/GBP_USD/candles InstrumentsCandles {'granularity': 'H1', 'includeFirst': True, 'from': '2016-01-21T20:00:00Z', 'to': '2016-02-11T16:00:00Z'}\n",
      "REQUEST: v3/instruments/GBP_USD/candles InstrumentsCandles {'granularity': 'H1', 'includeFirst': True, 'from': '2016-02-11T16:00:00Z', 'to': '2016-03-03T12:00:00Z'}\n",
      "REQUEST: v3/instruments/GBP_USD/candles InstrumentsCandles {'granularity': 'H1', 'includeFirst': True, 'from': '2016-03-03T12:00:00Z', 'to': '2016-03-24T08:00:00Z'}\n",
      "REQUEST: v3/instruments/GBP_USD/candles InstrumentsCandles {'granularity': 'H1', 'includeFirst': True, 'from': '2016-03-24T08:00:00Z', 'to': '2016-04-14T04:00:00Z'}\n",
      "REQUEST: v3/instruments/GBP_USD/candles InstrumentsCandles {'granularity': 'H1', 'includeFirst': True, 'from': '2016-04-14T04:00:00Z', 'to': '2016-05-05T00:00:00Z'}\n",
      "REQUEST: v3/instruments/GBP_USD/candles InstrumentsCandles {'granularity': 'H1', 'includeFirst': True, 'from': '2016-05-05T00:00:00Z', 'to': '2016-05-25T20:00:00Z'}\n",
      "REQUEST: v3/instruments/GBP_USD/candles InstrumentsCandles {'granularity': 'H1', 'includeFirst': True, 'from': '2016-05-25T20:00:00Z', 'to': '2016-06-15T16:00:00Z'}\n",
      "REQUEST: v3/instruments/GBP_USD/candles InstrumentsCandles {'granularity': 'H1', 'includeFirst': True, 'from': '2016-06-15T16:00:00Z', 'to': '2016-07-06T12:00:00Z'}\n",
      "REQUEST: v3/instruments/GBP_USD/candles InstrumentsCandles {'granularity': 'H1', 'includeFirst': True, 'from': '2016-07-06T12:00:00Z', 'to': '2016-07-27T08:00:00Z'}\n",
      "REQUEST: v3/instruments/GBP_USD/candles InstrumentsCandles {'granularity': 'H1', 'includeFirst': True, 'from': '2016-07-27T08:00:00Z', 'to': '2016-08-17T04:00:00Z'}\n",
      "REQUEST: v3/instruments/GBP_USD/candles InstrumentsCandles {'granularity': 'H1', 'includeFirst': True, 'from': '2016-08-17T04:00:00Z', 'to': '2016-09-07T00:00:00Z'}\n",
      "REQUEST: v3/instruments/GBP_USD/candles InstrumentsCandles {'granularity': 'H1', 'includeFirst': True, 'from': '2016-09-07T00:00:00Z', 'to': '2016-09-27T20:00:00Z'}\n",
      "REQUEST: v3/instruments/GBP_USD/candles InstrumentsCandles {'granularity': 'H1', 'includeFirst': True, 'from': '2016-09-27T20:00:00Z', 'to': '2016-10-18T16:00:00Z'}\n",
      "REQUEST: v3/instruments/GBP_USD/candles InstrumentsCandles {'granularity': 'H1', 'includeFirst': True, 'from': '2016-10-18T16:00:00Z', 'to': '2016-11-08T12:00:00Z'}\n",
      "REQUEST: v3/instruments/GBP_USD/candles InstrumentsCandles {'granularity': 'H1', 'includeFirst': True, 'from': '2016-11-08T12:00:00Z', 'to': '2016-11-29T08:00:00Z'}\n",
      "REQUEST: v3/instruments/GBP_USD/candles InstrumentsCandles {'granularity': 'H1', 'includeFirst': True, 'from': '2016-11-29T08:00:00Z', 'to': '2016-12-20T04:00:00Z'}\n",
      "REQUEST: v3/instruments/GBP_USD/candles InstrumentsCandles {'granularity': 'H1', 'includeFirst': True, 'from': '2016-12-20T04:00:00Z', 'to': '2017-01-10T00:00:00Z'}\n",
      "REQUEST: v3/instruments/GBP_USD/candles InstrumentsCandles {'granularity': 'H1', 'includeFirst': True, 'from': '2017-01-10T00:00:00Z', 'to': '2017-01-30T20:00:00Z'}\n",
      "REQUEST: v3/instruments/GBP_USD/candles InstrumentsCandles {'granularity': 'H1', 'includeFirst': True, 'from': '2017-01-30T20:00:00Z', 'to': '2017-02-20T16:00:00Z'}\n",
      "REQUEST: v3/instruments/GBP_USD/candles InstrumentsCandles {'granularity': 'H1', 'includeFirst': True, 'from': '2017-02-20T16:00:00Z', 'to': '2017-03-13T12:00:00Z'}\n",
      "REQUEST: v3/instruments/GBP_USD/candles InstrumentsCandles {'granularity': 'H1', 'includeFirst': True, 'from': '2017-03-13T12:00:00Z', 'to': '2017-04-03T08:00:00Z'}\n",
      "REQUEST: v3/instruments/GBP_USD/candles InstrumentsCandles {'granularity': 'H1', 'includeFirst': True, 'from': '2017-04-03T08:00:00Z', 'to': '2017-04-24T04:00:00Z'}\n",
      "REQUEST: v3/instruments/GBP_USD/candles InstrumentsCandles {'granularity': 'H1', 'includeFirst': True, 'from': '2017-04-24T04:00:00Z', 'to': '2017-05-15T00:00:00Z'}\n",
      "REQUEST: v3/instruments/GBP_USD/candles InstrumentsCandles {'granularity': 'H1', 'includeFirst': True, 'from': '2017-05-15T00:00:00Z', 'to': '2017-06-04T20:00:00Z'}\n",
      "REQUEST: v3/instruments/GBP_USD/candles InstrumentsCandles {'granularity': 'H1', 'includeFirst': True, 'from': '2017-06-04T20:00:00Z', 'to': '2017-06-25T16:00:00Z'}\n",
      "REQUEST: v3/instruments/GBP_USD/candles InstrumentsCandles {'granularity': 'H1', 'includeFirst': True, 'from': '2017-06-25T16:00:00Z', 'to': '2017-07-16T12:00:00Z'}\n",
      "REQUEST: v3/instruments/GBP_USD/candles InstrumentsCandles {'granularity': 'H1', 'includeFirst': True, 'from': '2017-07-16T12:00:00Z', 'to': '2017-08-06T08:00:00Z'}\n",
      "REQUEST: v3/instruments/GBP_USD/candles InstrumentsCandles {'granularity': 'H1', 'includeFirst': True, 'from': '2017-08-06T08:00:00Z', 'to': '2017-08-27T04:00:00Z'}\n",
      "REQUEST: v3/instruments/GBP_USD/candles InstrumentsCandles {'granularity': 'H1', 'includeFirst': True, 'from': '2017-08-27T04:00:00Z', 'to': '2017-09-17T00:00:00Z'}\n",
      "REQUEST: v3/instruments/GBP_USD/candles InstrumentsCandles {'granularity': 'H1', 'includeFirst': True, 'from': '2017-09-17T00:00:00Z', 'to': '2017-10-07T20:00:00Z'}\n",
      "REQUEST: v3/instruments/GBP_USD/candles InstrumentsCandles {'granularity': 'H1', 'includeFirst': True, 'from': '2017-10-07T20:00:00Z', 'to': '2017-10-28T16:00:00Z'}\n",
      "REQUEST: v3/instruments/GBP_USD/candles InstrumentsCandles {'granularity': 'H1', 'includeFirst': True, 'from': '2017-10-28T16:00:00Z', 'to': '2017-11-18T12:00:00Z'}\n",
      "REQUEST: v3/instruments/GBP_USD/candles InstrumentsCandles {'granularity': 'H1', 'includeFirst': True, 'from': '2017-11-18T12:00:00Z', 'to': '2017-12-09T08:00:00Z'}\n",
      "REQUEST: v3/instruments/GBP_USD/candles InstrumentsCandles {'granularity': 'H1', 'includeFirst': True, 'from': '2017-12-09T08:00:00Z', 'to': '2017-12-30T04:00:00Z'}\n",
      "REQUEST: v3/instruments/GBP_USD/candles InstrumentsCandles {'granularity': 'H1', 'includeFirst': True, 'from': '2017-12-30T04:00:00Z', 'to': '2018-01-01T00:00:00Z'}\n",
      "Finished\n"
     ]
    }
   ],
   "source": [
    "# downloading our data\n",
    "download_data(start_date, end_date, gr, instrument, path)"
   ]
  },
  {
   "cell_type": "code",
   "execution_count": null,
   "metadata": {},
   "outputs": [],
   "source": []
  },
  {
   "cell_type": "code",
   "execution_count": null,
   "metadata": {},
   "outputs": [],
   "source": []
  },
  {
   "cell_type": "code",
   "execution_count": null,
   "metadata": {},
   "outputs": [],
   "source": []
  },
  {
   "cell_type": "code",
   "execution_count": null,
   "metadata": {},
   "outputs": [],
   "source": []
  },
  {
   "cell_type": "code",
   "execution_count": null,
   "metadata": {},
   "outputs": [],
   "source": []
  },
  {
   "cell_type": "code",
   "execution_count": null,
   "metadata": {},
   "outputs": [],
   "source": []
  },
  {
   "cell_type": "code",
   "execution_count": null,
   "metadata": {},
   "outputs": [],
   "source": []
  },
  {
   "cell_type": "code",
   "execution_count": null,
   "metadata": {},
   "outputs": [],
   "source": []
  },
  {
   "cell_type": "code",
   "execution_count": null,
   "metadata": {},
   "outputs": [],
   "source": []
  },
  {
   "cell_type": "code",
   "execution_count": null,
   "metadata": {},
   "outputs": [],
   "source": []
  },
  {
   "cell_type": "code",
   "execution_count": null,
   "metadata": {},
   "outputs": [],
   "source": []
  },
  {
   "cell_type": "code",
   "execution_count": null,
   "metadata": {},
   "outputs": [],
   "source": []
  },
  {
   "cell_type": "code",
   "execution_count": null,
   "metadata": {},
   "outputs": [],
   "source": []
  },
  {
   "cell_type": "code",
   "execution_count": null,
   "metadata": {},
   "outputs": [],
   "source": []
  },
  {
   "cell_type": "code",
   "execution_count": null,
   "metadata": {},
   "outputs": [],
   "source": []
  },
  {
   "cell_type": "code",
   "execution_count": null,
   "metadata": {},
   "outputs": [],
   "source": []
  },
  {
   "cell_type": "code",
   "execution_count": null,
   "metadata": {},
   "outputs": [],
   "source": []
  },
  {
   "cell_type": "code",
   "execution_count": null,
   "metadata": {},
   "outputs": [],
   "source": []
  },
  {
   "cell_type": "code",
   "execution_count": null,
   "metadata": {},
   "outputs": [],
   "source": []
  },
  {
   "cell_type": "code",
   "execution_count": null,
   "metadata": {},
   "outputs": [],
   "source": []
  },
  {
   "cell_type": "code",
   "execution_count": null,
   "metadata": {},
   "outputs": [],
   "source": []
  },
  {
   "cell_type": "code",
   "execution_count": null,
   "metadata": {},
   "outputs": [],
   "source": []
  },
  {
   "cell_type": "code",
   "execution_count": null,
   "metadata": {},
   "outputs": [],
   "source": []
  },
  {
   "cell_type": "code",
   "execution_count": null,
   "metadata": {},
   "outputs": [],
   "source": []
  },
  {
   "cell_type": "code",
   "execution_count": null,
   "metadata": {},
   "outputs": [],
   "source": []
  },
  {
   "cell_type": "code",
   "execution_count": null,
   "metadata": {},
   "outputs": [],
   "source": []
  },
  {
   "cell_type": "code",
   "execution_count": null,
   "metadata": {},
   "outputs": [],
   "source": []
  },
  {
   "cell_type": "code",
   "execution_count": null,
   "metadata": {},
   "outputs": [],
   "source": []
  },
  {
   "cell_type": "code",
   "execution_count": null,
   "metadata": {},
   "outputs": [],
   "source": []
  },
  {
   "cell_type": "code",
   "execution_count": null,
   "metadata": {},
   "outputs": [],
   "source": []
  },
  {
   "cell_type": "code",
   "execution_count": null,
   "metadata": {},
   "outputs": [],
   "source": []
  }
 ],
 "metadata": {
  "kernelspec": {
   "display_name": "Python 3",
   "language": "python",
   "name": "python3"
  },
  "language_info": {
   "codemirror_mode": {
    "name": "ipython",
    "version": 3
   },
   "file_extension": ".py",
   "mimetype": "text/x-python",
   "name": "python",
   "nbconvert_exporter": "python",
   "pygments_lexer": "ipython3",
   "version": "3.7.3"
  }
 },
 "nbformat": 4,
 "nbformat_minor": 2
}
