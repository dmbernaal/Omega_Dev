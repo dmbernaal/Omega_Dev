{
 "cells": [
  {
   "cell_type": "markdown",
   "metadata": {},
   "source": [
    "# Candlestick formation - batched\n",
    "in this notebook we will take our raw data and do the following:\n",
    "\n",
    "1. Import and review the data - check if there are any missing values, etc \n",
    "2. Test a sample candle stick formation using our ```candle_stick.py``` script \n",
    "3. Creating our candlestick data using the same script and saving it in our ```model_data``` directory under ```image_data```"
   ]
  },
  {
   "cell_type": "code",
   "execution_count": 1,
   "metadata": {},
   "outputs": [],
   "source": [
    "from tqdm import tqdm\n",
    "import pandas as pd\n",
    "import numpy as np\n",
    "import os\n",
    "import matplotlib.pyplot as plt\n",
    "import gc\n",
    "\n",
    "from mpl_finance import candlestick_ochl\n",
    "import matplotlib.dates as mdates\n",
    "from pandas.plotting import register_matplotlib_converters\n",
    "register_matplotlib_converters()\n",
    "\n",
    "from time import sleep\n",
    "import multiprocessing as mp"
   ]
  },
  {
   "cell_type": "code",
   "execution_count": 3,
   "metadata": {},
   "outputs": [
    {
     "data": {
      "text/plain": [
       "'./raw_data//GBP_USD_H1_2016-01-01_2018-01-01.csv'"
      ]
     },
     "execution_count": 3,
     "metadata": {},
     "output_type": "execute_result"
    }
   ],
   "source": [
    "# grabbing our file\n",
    "file = f'{os.curdir}/raw_data/'\n",
    "file = f'{file}/{os.listdir(file)[0]}' # grabbing our first file - initial download\n",
    "\n",
    "file"
   ]
  },
  {
   "cell_type": "code",
   "execution_count": 14,
   "metadata": {},
   "outputs": [],
   "source": [
    "# loading our data into a dataframe\n",
    "headers = ['date', 'complete', 'open', 'high', 'low', 'close', 'volume']\n",
    "\n",
    "my_dtypes = {\n",
    "    'date': 'str',\n",
    "    'complete': 'bool',\n",
    "    'open': 'float',\n",
    "    'high': 'float',\n",
    "    'low': 'float',\n",
    "    'close': 'float',\n",
    "    'volume': 'float'\n",
    "}\n",
    "\n",
    "my_parse_dates = ['date']\n",
    "\n",
    "df = pd.read_csv(file, names=headers, dtype=my_dtypes, parse_dates=my_parse_dates)"
   ]
  },
  {
   "cell_type": "code",
   "execution_count": 15,
   "metadata": {},
   "outputs": [],
   "source": [
    "# dropping complete column\n",
    "df.drop(columns='complete', axis=1, inplace=True)\n",
    "\n",
    "# # re-arranging\n",
    "df = df[['date', 'open', 'high', 'low', 'close', 'volume']]"
   ]
  },
  {
   "cell_type": "code",
   "execution_count": 16,
   "metadata": {},
   "outputs": [
    {
     "data": {
      "text/html": [
       "<div>\n",
       "<style scoped>\n",
       "    .dataframe tbody tr th:only-of-type {\n",
       "        vertical-align: middle;\n",
       "    }\n",
       "\n",
       "    .dataframe tbody tr th {\n",
       "        vertical-align: top;\n",
       "    }\n",
       "\n",
       "    .dataframe thead th {\n",
       "        text-align: right;\n",
       "    }\n",
       "</style>\n",
       "<table border=\"1\" class=\"dataframe\">\n",
       "  <thead>\n",
       "    <tr style=\"text-align: right;\">\n",
       "      <th></th>\n",
       "      <th>date</th>\n",
       "      <th>open</th>\n",
       "      <th>high</th>\n",
       "      <th>low</th>\n",
       "      <th>close</th>\n",
       "      <th>volume</th>\n",
       "    </tr>\n",
       "  </thead>\n",
       "  <tbody>\n",
       "    <tr>\n",
       "      <th>0</th>\n",
       "      <td>2016-01-03 22:00:00</td>\n",
       "      <td>1.47352</td>\n",
       "      <td>1.47464</td>\n",
       "      <td>1.47351</td>\n",
       "      <td>1.47354</td>\n",
       "      <td>1068.0</td>\n",
       "    </tr>\n",
       "    <tr>\n",
       "      <th>1</th>\n",
       "      <td>2016-01-03 23:00:00</td>\n",
       "      <td>1.47343</td>\n",
       "      <td>1.47382</td>\n",
       "      <td>1.47266</td>\n",
       "      <td>1.47356</td>\n",
       "      <td>938.0</td>\n",
       "    </tr>\n",
       "    <tr>\n",
       "      <th>2</th>\n",
       "      <td>2016-01-04 00:00:00</td>\n",
       "      <td>1.47364</td>\n",
       "      <td>1.47412</td>\n",
       "      <td>1.47240</td>\n",
       "      <td>1.47278</td>\n",
       "      <td>570.0</td>\n",
       "    </tr>\n",
       "    <tr>\n",
       "      <th>3</th>\n",
       "      <td>2016-01-04 01:00:00</td>\n",
       "      <td>1.47284</td>\n",
       "      <td>1.47301</td>\n",
       "      <td>1.46936</td>\n",
       "      <td>1.47177</td>\n",
       "      <td>1133.0</td>\n",
       "    </tr>\n",
       "    <tr>\n",
       "      <th>4</th>\n",
       "      <td>2016-01-04 02:00:00</td>\n",
       "      <td>1.47183</td>\n",
       "      <td>1.47234</td>\n",
       "      <td>1.47041</td>\n",
       "      <td>1.47184</td>\n",
       "      <td>865.0</td>\n",
       "    </tr>\n",
       "  </tbody>\n",
       "</table>\n",
       "</div>"
      ],
      "text/plain": [
       "                 date     open     high      low    close  volume\n",
       "0 2016-01-03 22:00:00  1.47352  1.47464  1.47351  1.47354  1068.0\n",
       "1 2016-01-03 23:00:00  1.47343  1.47382  1.47266  1.47356   938.0\n",
       "2 2016-01-04 00:00:00  1.47364  1.47412  1.47240  1.47278   570.0\n",
       "3 2016-01-04 01:00:00  1.47284  1.47301  1.46936  1.47177  1133.0\n",
       "4 2016-01-04 02:00:00  1.47183  1.47234  1.47041  1.47184   865.0"
      ]
     },
     "execution_count": 16,
     "metadata": {},
     "output_type": "execute_result"
    }
   ],
   "source": [
    "df.head()"
   ]
  },
  {
   "cell_type": "code",
   "execution_count": 17,
   "metadata": {},
   "outputs": [
    {
     "data": {
      "text/html": [
       "<div>\n",
       "<style scoped>\n",
       "    .dataframe tbody tr th:only-of-type {\n",
       "        vertical-align: middle;\n",
       "    }\n",
       "\n",
       "    .dataframe tbody tr th {\n",
       "        vertical-align: top;\n",
       "    }\n",
       "\n",
       "    .dataframe thead th {\n",
       "        text-align: right;\n",
       "    }\n",
       "</style>\n",
       "<table border=\"1\" class=\"dataframe\">\n",
       "  <thead>\n",
       "    <tr style=\"text-align: right;\">\n",
       "      <th></th>\n",
       "      <th>date</th>\n",
       "      <th>open</th>\n",
       "      <th>high</th>\n",
       "      <th>low</th>\n",
       "      <th>close</th>\n",
       "      <th>volume</th>\n",
       "    </tr>\n",
       "  </thead>\n",
       "  <tbody>\n",
       "    <tr>\n",
       "      <th>12403</th>\n",
       "      <td>2017-12-29 17:00:00</td>\n",
       "      <td>1.35278</td>\n",
       "      <td>1.35362</td>\n",
       "      <td>1.35224</td>\n",
       "      <td>1.35240</td>\n",
       "      <td>3945.0</td>\n",
       "    </tr>\n",
       "    <tr>\n",
       "      <th>12404</th>\n",
       "      <td>2017-12-29 18:00:00</td>\n",
       "      <td>1.35242</td>\n",
       "      <td>1.35254</td>\n",
       "      <td>1.35181</td>\n",
       "      <td>1.35248</td>\n",
       "      <td>2445.0</td>\n",
       "    </tr>\n",
       "    <tr>\n",
       "      <th>12405</th>\n",
       "      <td>2017-12-29 19:00:00</td>\n",
       "      <td>1.35240</td>\n",
       "      <td>1.35248</td>\n",
       "      <td>1.35158</td>\n",
       "      <td>1.35178</td>\n",
       "      <td>2180.0</td>\n",
       "    </tr>\n",
       "    <tr>\n",
       "      <th>12406</th>\n",
       "      <td>2017-12-29 20:00:00</td>\n",
       "      <td>1.35178</td>\n",
       "      <td>1.35180</td>\n",
       "      <td>1.35008</td>\n",
       "      <td>1.35010</td>\n",
       "      <td>2257.0</td>\n",
       "    </tr>\n",
       "    <tr>\n",
       "      <th>12407</th>\n",
       "      <td>2017-12-29 21:00:00</td>\n",
       "      <td>1.35012</td>\n",
       "      <td>1.35112</td>\n",
       "      <td>1.34951</td>\n",
       "      <td>1.35045</td>\n",
       "      <td>2593.0</td>\n",
       "    </tr>\n",
       "  </tbody>\n",
       "</table>\n",
       "</div>"
      ],
      "text/plain": [
       "                     date     open     high      low    close  volume\n",
       "12403 2017-12-29 17:00:00  1.35278  1.35362  1.35224  1.35240  3945.0\n",
       "12404 2017-12-29 18:00:00  1.35242  1.35254  1.35181  1.35248  2445.0\n",
       "12405 2017-12-29 19:00:00  1.35240  1.35248  1.35158  1.35178  2180.0\n",
       "12406 2017-12-29 20:00:00  1.35178  1.35180  1.35008  1.35010  2257.0\n",
       "12407 2017-12-29 21:00:00  1.35012  1.35112  1.34951  1.35045  2593.0"
      ]
     },
     "execution_count": 17,
     "metadata": {},
     "output_type": "execute_result"
    }
   ],
   "source": [
    "df.tail()"
   ]
  },
  {
   "cell_type": "code",
   "execution_count": 18,
   "metadata": {},
   "outputs": [
    {
     "name": "stdout",
     "output_type": "stream",
     "text": [
      "<class 'pandas.core.frame.DataFrame'>\n",
      "RangeIndex: 12408 entries, 0 to 12407\n",
      "Data columns (total 6 columns):\n",
      "date      12408 non-null datetime64[ns]\n",
      "open      12408 non-null float64\n",
      "high      12408 non-null float64\n",
      "low       12408 non-null float64\n",
      "close     12408 non-null float64\n",
      "volume    12408 non-null float64\n",
      "dtypes: datetime64[ns](1), float64(5)\n",
      "memory usage: 581.7 KB\n"
     ]
    }
   ],
   "source": [
    "df.info()"
   ]
  },
  {
   "cell_type": "code",
   "execution_count": 19,
   "metadata": {},
   "outputs": [],
   "source": [
    "# Setting date to datetime\n",
    "df['date'] = pd.to_datetime(df['date'])"
   ]
  },
  {
   "cell_type": "code",
   "execution_count": 21,
   "metadata": {},
   "outputs": [
    {
     "data": {
      "text/plain": [
       "6204"
      ]
     },
     "execution_count": 21,
     "metadata": {},
     "output_type": "execute_result"
    }
   ],
   "source": [
    "# Splitting our batch in two - this will be much larger batch splits and inside an individual script as the larger projects will consist of many more picture \n",
    "batch_size = int(len(df) / 2)\n",
    "batch_size"
   ]
  },
  {
   "cell_type": "code",
   "execution_count": 22,
   "metadata": {},
   "outputs": [],
   "source": [
    "# Splitting our DFs into two DFs\n",
    "# In production, this will be automatic depending on how many batch splits\n",
    "df1 = df.iloc[:batch_size].copy()\n",
    "df2 = df.iloc[batch_size:].copy()"
   ]
  },
  {
   "cell_type": "code",
   "execution_count": 25,
   "metadata": {},
   "outputs": [
    {
     "data": {
      "text/html": [
       "<div>\n",
       "<style scoped>\n",
       "    .dataframe tbody tr th:only-of-type {\n",
       "        vertical-align: middle;\n",
       "    }\n",
       "\n",
       "    .dataframe tbody tr th {\n",
       "        vertical-align: top;\n",
       "    }\n",
       "\n",
       "    .dataframe thead th {\n",
       "        text-align: right;\n",
       "    }\n",
       "</style>\n",
       "<table border=\"1\" class=\"dataframe\">\n",
       "  <thead>\n",
       "    <tr style=\"text-align: right;\">\n",
       "      <th></th>\n",
       "      <th>date</th>\n",
       "      <th>open</th>\n",
       "      <th>high</th>\n",
       "      <th>low</th>\n",
       "      <th>close</th>\n",
       "      <th>volume</th>\n",
       "    </tr>\n",
       "  </thead>\n",
       "  <tbody>\n",
       "    <tr>\n",
       "      <th>6203</th>\n",
       "      <td>2016-12-30 10:00:00</td>\n",
       "      <td>1.23124</td>\n",
       "      <td>1.23162</td>\n",
       "      <td>1.22874</td>\n",
       "      <td>1.23042</td>\n",
       "      <td>2194.0</td>\n",
       "    </tr>\n",
       "  </tbody>\n",
       "</table>\n",
       "</div>"
      ],
      "text/plain": [
       "                    date     open     high      low    close  volume\n",
       "6203 2016-12-30 10:00:00  1.23124  1.23162  1.22874  1.23042  2194.0"
      ]
     },
     "execution_count": 25,
     "metadata": {},
     "output_type": "execute_result"
    }
   ],
   "source": [
    "df1.tail(1)"
   ]
  },
  {
   "cell_type": "code",
   "execution_count": 26,
   "metadata": {},
   "outputs": [
    {
     "data": {
      "text/html": [
       "<div>\n",
       "<style scoped>\n",
       "    .dataframe tbody tr th:only-of-type {\n",
       "        vertical-align: middle;\n",
       "    }\n",
       "\n",
       "    .dataframe tbody tr th {\n",
       "        vertical-align: top;\n",
       "    }\n",
       "\n",
       "    .dataframe thead th {\n",
       "        text-align: right;\n",
       "    }\n",
       "</style>\n",
       "<table border=\"1\" class=\"dataframe\">\n",
       "  <thead>\n",
       "    <tr style=\"text-align: right;\">\n",
       "      <th></th>\n",
       "      <th>date</th>\n",
       "      <th>open</th>\n",
       "      <th>high</th>\n",
       "      <th>low</th>\n",
       "      <th>close</th>\n",
       "      <th>volume</th>\n",
       "    </tr>\n",
       "  </thead>\n",
       "  <tbody>\n",
       "    <tr>\n",
       "      <th>6204</th>\n",
       "      <td>2016-12-30 11:00:00</td>\n",
       "      <td>1.23037</td>\n",
       "      <td>1.23101</td>\n",
       "      <td>1.22864</td>\n",
       "      <td>1.23026</td>\n",
       "      <td>1055.0</td>\n",
       "    </tr>\n",
       "  </tbody>\n",
       "</table>\n",
       "</div>"
      ],
      "text/plain": [
       "                    date     open     high      low    close  volume\n",
       "6204 2016-12-30 11:00:00  1.23037  1.23101  1.22864  1.23026  1055.0"
      ]
     },
     "execution_count": 26,
     "metadata": {},
     "output_type": "execute_result"
    }
   ],
   "source": [
    "df2.head(1)"
   ]
  },
  {
   "cell_type": "code",
   "execution_count": 27,
   "metadata": {},
   "outputs": [
    {
     "data": {
      "text/html": [
       "<div>\n",
       "<style scoped>\n",
       "    .dataframe tbody tr th:only-of-type {\n",
       "        vertical-align: middle;\n",
       "    }\n",
       "\n",
       "    .dataframe tbody tr th {\n",
       "        vertical-align: top;\n",
       "    }\n",
       "\n",
       "    .dataframe thead th {\n",
       "        text-align: right;\n",
       "    }\n",
       "</style>\n",
       "<table border=\"1\" class=\"dataframe\">\n",
       "  <thead>\n",
       "    <tr style=\"text-align: right;\">\n",
       "      <th></th>\n",
       "      <th>date</th>\n",
       "      <th>open</th>\n",
       "      <th>high</th>\n",
       "      <th>low</th>\n",
       "      <th>close</th>\n",
       "      <th>volume</th>\n",
       "    </tr>\n",
       "  </thead>\n",
       "  <tbody>\n",
       "    <tr>\n",
       "      <th>12407</th>\n",
       "      <td>2017-12-29 21:00:00</td>\n",
       "      <td>1.35012</td>\n",
       "      <td>1.35112</td>\n",
       "      <td>1.34951</td>\n",
       "      <td>1.35045</td>\n",
       "      <td>2593.0</td>\n",
       "    </tr>\n",
       "  </tbody>\n",
       "</table>\n",
       "</div>"
      ],
      "text/plain": [
       "                     date     open     high      low    close  volume\n",
       "12407 2017-12-29 21:00:00  1.35012  1.35112  1.34951  1.35045  2593.0"
      ]
     },
     "execution_count": 27,
     "metadata": {},
     "output_type": "execute_result"
    }
   ],
   "source": [
    "df2.tail(1)"
   ]
  },
  {
   "cell_type": "markdown",
   "metadata": {},
   "source": [
    "# Testing our Plotting - using ```omegacandlestick.py```"
   ]
  },
  {
   "cell_type": "code",
   "execution_count": null,
   "metadata": {},
   "outputs": [],
   "source": []
  },
  {
   "cell_type": "code",
   "execution_count": null,
   "metadata": {},
   "outputs": [],
   "source": []
  },
  {
   "cell_type": "code",
   "execution_count": null,
   "metadata": {},
   "outputs": [],
   "source": []
  },
  {
   "cell_type": "code",
   "execution_count": null,
   "metadata": {},
   "outputs": [],
   "source": []
  },
  {
   "cell_type": "code",
   "execution_count": null,
   "metadata": {},
   "outputs": [],
   "source": []
  },
  {
   "cell_type": "code",
   "execution_count": null,
   "metadata": {},
   "outputs": [],
   "source": []
  },
  {
   "cell_type": "code",
   "execution_count": null,
   "metadata": {},
   "outputs": [],
   "source": []
  },
  {
   "cell_type": "code",
   "execution_count": null,
   "metadata": {},
   "outputs": [],
   "source": []
  },
  {
   "cell_type": "code",
   "execution_count": null,
   "metadata": {},
   "outputs": [],
   "source": []
  },
  {
   "cell_type": "code",
   "execution_count": null,
   "metadata": {},
   "outputs": [],
   "source": []
  },
  {
   "cell_type": "code",
   "execution_count": null,
   "metadata": {},
   "outputs": [],
   "source": []
  },
  {
   "cell_type": "code",
   "execution_count": null,
   "metadata": {},
   "outputs": [],
   "source": []
  },
  {
   "cell_type": "code",
   "execution_count": null,
   "metadata": {},
   "outputs": [],
   "source": []
  },
  {
   "cell_type": "code",
   "execution_count": null,
   "metadata": {},
   "outputs": [],
   "source": []
  },
  {
   "cell_type": "code",
   "execution_count": null,
   "metadata": {},
   "outputs": [],
   "source": []
  },
  {
   "cell_type": "code",
   "execution_count": null,
   "metadata": {},
   "outputs": [],
   "source": []
  },
  {
   "cell_type": "code",
   "execution_count": null,
   "metadata": {},
   "outputs": [],
   "source": []
  },
  {
   "cell_type": "code",
   "execution_count": null,
   "metadata": {},
   "outputs": [],
   "source": []
  },
  {
   "cell_type": "code",
   "execution_count": null,
   "metadata": {},
   "outputs": [],
   "source": []
  },
  {
   "cell_type": "code",
   "execution_count": null,
   "metadata": {},
   "outputs": [],
   "source": []
  },
  {
   "cell_type": "code",
   "execution_count": null,
   "metadata": {},
   "outputs": [],
   "source": []
  }
 ],
 "metadata": {
  "kernelspec": {
   "display_name": "Python 3",
   "language": "python",
   "name": "python3"
  },
  "language_info": {
   "codemirror_mode": {
    "name": "ipython",
    "version": 3
   },
   "file_extension": ".py",
   "mimetype": "text/x-python",
   "name": "python",
   "nbconvert_exporter": "python",
   "pygments_lexer": "ipython3",
   "version": "3.7.3"
  }
 },
 "nbformat": 4,
 "nbformat_minor": 2
}
