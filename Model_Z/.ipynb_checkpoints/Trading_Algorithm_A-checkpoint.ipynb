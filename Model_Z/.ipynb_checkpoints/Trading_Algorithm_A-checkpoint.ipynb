{
 "cells": [
  {
   "cell_type": "markdown",
   "metadata": {},
   "source": [
    "# Trading Algorithm A\n",
    "In this notebook we will go over a simplified trading algorithm which will measure return of our capital based on a certain percentage of return within a given time window. \n",
    "\n",
    "We have created a CSV ```changes_*``` which is a matrix: columns represent time-window size so: ```changes[24]``` represents what has been the change in percentage between 24 hours? \n",
    "\n",
    "From this, we can then further study different percentage distributions between those different time-windows. "
   ]
  },
  {
   "cell_type": "markdown",
   "metadata": {},
   "source": [
    "# Pseudocode\n",
    "The following is a psuedo-representation of our trading algorithm\n",
    "\n",
    "## Math notation\n",
    "* $b_c$ = buying capital\n",
    "* $p_n$ = prediction at timestep $n$\n",
    "* $t_n$ = current timestep: \n",
    "    * $t_n$ = $p_n - n$\n",
    "* $n$ = timestep, this can represent how many steps ahead in the future we will predict \n",
    "* $x_p$ = threshold percentage in float value\n",
    "* $x$ = our **delta** by some percentage which is the change in price between $p_n$ and $t_n$\n",
    "    * this will be represented as the **threshold** to label a **buy**\n",
    "        * $x = t_{n0} + (t_{n0} * x_p)$ \n",
    "* $t_{n0}$ = opening price at $t_n$\n",
    "* $p_{n0}$ = opening price at $p_n$\n",
    "* $t_{ni}$ = when we enter the trade\n",
    "    * $t_{ni} = t_{n0}$ when $(p_n > x)$\n",
    "* $t_{nf}$ = when we get out of the trade: grabbing the last timestep price before the price dips too low\n",
    "    * $t_{nf} = p_{n0 - 1}$\n",
    "* ```omega_return``` = $h * t_{nf}$\n",
    "* $h$ = amount of 'shares' bought\n",
    "    * $h = \\frac{b_c}{t_{ni}}$ \n",
    "        \n",
    "### Algorithm\n",
    "```\n",
    "# buy and hold\n",
    "if pn0 > x && bc > 0 && h == 0:\n",
    "    grab opening price tn0\n",
    "    buy shares with bc at tn0\n",
    "    update bc to 0\n",
    "    next el\n",
    "\n",
    "# sell and wait\n",
    "if pn0 < tn0 && bc == 0 && h > 0:\n",
    "    grab tnf\n",
    "    sell h at tnf (h * tnf)\n",
    "    update bc to (h * tnf)\n",
    "    update h to 0\n",
    "    next el\n",
    "    \n",
    "else:\n",
    "    pass\n",
    "```"
   ]
  },
  {
   "cell_type": "code",
   "execution_count": 1,
   "metadata": {},
   "outputs": [],
   "source": [
    "from omega_simulate import *"
   ]
  },
  {
   "cell_type": "code",
   "execution_count": 2,
   "metadata": {},
   "outputs": [],
   "source": [
    "path = './post_processing/data_fluc/changes_1hr_USDGBP.csv'\n",
    "changes_df = pd.read_csv(path)"
   ]
  },
  {
   "cell_type": "code",
   "execution_count": 3,
   "metadata": {},
   "outputs": [
    {
     "data": {
      "text/html": [
       "<div>\n",
       "<style scoped>\n",
       "    .dataframe tbody tr th:only-of-type {\n",
       "        vertical-align: middle;\n",
       "    }\n",
       "\n",
       "    .dataframe tbody tr th {\n",
       "        vertical-align: top;\n",
       "    }\n",
       "\n",
       "    .dataframe thead th {\n",
       "        text-align: right;\n",
       "    }\n",
       "</style>\n",
       "<table border=\"1\" class=\"dataframe\">\n",
       "  <thead>\n",
       "    <tr style=\"text-align: right;\">\n",
       "      <th></th>\n",
       "      <th>date</th>\n",
       "      <th>open</th>\n",
       "      <th>close</th>\n",
       "      <th>1</th>\n",
       "      <th>2</th>\n",
       "      <th>3</th>\n",
       "      <th>4</th>\n",
       "      <th>5</th>\n",
       "      <th>6</th>\n",
       "      <th>7</th>\n",
       "      <th>...</th>\n",
       "      <th>39</th>\n",
       "      <th>40</th>\n",
       "      <th>41</th>\n",
       "      <th>42</th>\n",
       "      <th>43</th>\n",
       "      <th>44</th>\n",
       "      <th>45</th>\n",
       "      <th>46</th>\n",
       "      <th>47</th>\n",
       "      <th>48</th>\n",
       "    </tr>\n",
       "  </thead>\n",
       "  <tbody>\n",
       "    <tr>\n",
       "      <th>0</th>\n",
       "      <td>2016-01-03 22:00:00</td>\n",
       "      <td>1.47352</td>\n",
       "      <td>1.47354</td>\n",
       "      <td>-0.000014</td>\n",
       "      <td>NaN</td>\n",
       "      <td>NaN</td>\n",
       "      <td>NaN</td>\n",
       "      <td>NaN</td>\n",
       "      <td>NaN</td>\n",
       "      <td>NaN</td>\n",
       "      <td>...</td>\n",
       "      <td>NaN</td>\n",
       "      <td>NaN</td>\n",
       "      <td>NaN</td>\n",
       "      <td>NaN</td>\n",
       "      <td>NaN</td>\n",
       "      <td>NaN</td>\n",
       "      <td>NaN</td>\n",
       "      <td>NaN</td>\n",
       "      <td>NaN</td>\n",
       "      <td>NaN</td>\n",
       "    </tr>\n",
       "    <tr>\n",
       "      <th>1</th>\n",
       "      <td>2016-01-03 23:00:00</td>\n",
       "      <td>1.47343</td>\n",
       "      <td>1.47356</td>\n",
       "      <td>-0.000088</td>\n",
       "      <td>-0.000075</td>\n",
       "      <td>NaN</td>\n",
       "      <td>NaN</td>\n",
       "      <td>NaN</td>\n",
       "      <td>NaN</td>\n",
       "      <td>NaN</td>\n",
       "      <td>...</td>\n",
       "      <td>NaN</td>\n",
       "      <td>NaN</td>\n",
       "      <td>NaN</td>\n",
       "      <td>NaN</td>\n",
       "      <td>NaN</td>\n",
       "      <td>NaN</td>\n",
       "      <td>NaN</td>\n",
       "      <td>NaN</td>\n",
       "      <td>NaN</td>\n",
       "      <td>NaN</td>\n",
       "    </tr>\n",
       "    <tr>\n",
       "      <th>2</th>\n",
       "      <td>2016-01-04 00:00:00</td>\n",
       "      <td>1.47364</td>\n",
       "      <td>1.47278</td>\n",
       "      <td>0.000584</td>\n",
       "      <td>0.000054</td>\n",
       "      <td>0.000068</td>\n",
       "      <td>NaN</td>\n",
       "      <td>NaN</td>\n",
       "      <td>NaN</td>\n",
       "      <td>NaN</td>\n",
       "      <td>...</td>\n",
       "      <td>NaN</td>\n",
       "      <td>NaN</td>\n",
       "      <td>NaN</td>\n",
       "      <td>NaN</td>\n",
       "      <td>NaN</td>\n",
       "      <td>NaN</td>\n",
       "      <td>NaN</td>\n",
       "      <td>NaN</td>\n",
       "      <td>NaN</td>\n",
       "      <td>NaN</td>\n",
       "    </tr>\n",
       "  </tbody>\n",
       "</table>\n",
       "<p>3 rows × 51 columns</p>\n",
       "</div>"
      ],
      "text/plain": [
       "                  date     open    close         1         2         3   4  \\\n",
       "0  2016-01-03 22:00:00  1.47352  1.47354 -0.000014       NaN       NaN NaN   \n",
       "1  2016-01-03 23:00:00  1.47343  1.47356 -0.000088 -0.000075       NaN NaN   \n",
       "2  2016-01-04 00:00:00  1.47364  1.47278  0.000584  0.000054  0.000068 NaN   \n",
       "\n",
       "    5   6   7  ...  39  40  41  42  43  44  45  46  47  48  \n",
       "0 NaN NaN NaN  ... NaN NaN NaN NaN NaN NaN NaN NaN NaN NaN  \n",
       "1 NaN NaN NaN  ... NaN NaN NaN NaN NaN NaN NaN NaN NaN NaN  \n",
       "2 NaN NaN NaN  ... NaN NaN NaN NaN NaN NaN NaN NaN NaN NaN  \n",
       "\n",
       "[3 rows x 51 columns]"
      ]
     },
     "execution_count": 3,
     "metadata": {},
     "output_type": "execute_result"
    }
   ],
   "source": [
    "changes_df.head(3)"
   ]
  },
  {
   "cell_type": "code",
   "execution_count": 4,
   "metadata": {},
   "outputs": [],
   "source": [
    "# grabbing pn = 24\n",
    "# this is the change in a 24 hour window - which is essentially a 24 hour prediction\n",
    "window_24_columns = ['open', 'close', '24']\n",
    "window_24 = changes_df[window_24_columns].copy()"
   ]
  },
  {
   "cell_type": "code",
   "execution_count": 5,
   "metadata": {},
   "outputs": [
    {
     "data": {
      "text/html": [
       "<div>\n",
       "<style scoped>\n",
       "    .dataframe tbody tr th:only-of-type {\n",
       "        vertical-align: middle;\n",
       "    }\n",
       "\n",
       "    .dataframe tbody tr th {\n",
       "        vertical-align: top;\n",
       "    }\n",
       "\n",
       "    .dataframe thead th {\n",
       "        text-align: right;\n",
       "    }\n",
       "</style>\n",
       "<table border=\"1\" class=\"dataframe\">\n",
       "  <thead>\n",
       "    <tr style=\"text-align: right;\">\n",
       "      <th></th>\n",
       "      <th>open</th>\n",
       "      <th>close</th>\n",
       "      <th>24</th>\n",
       "    </tr>\n",
       "  </thead>\n",
       "  <tbody>\n",
       "    <tr>\n",
       "      <th>0</th>\n",
       "      <td>1.47352</td>\n",
       "      <td>1.47354</td>\n",
       "      <td>NaN</td>\n",
       "    </tr>\n",
       "    <tr>\n",
       "      <th>1</th>\n",
       "      <td>1.47343</td>\n",
       "      <td>1.47356</td>\n",
       "      <td>NaN</td>\n",
       "    </tr>\n",
       "    <tr>\n",
       "      <th>2</th>\n",
       "      <td>1.47364</td>\n",
       "      <td>1.47278</td>\n",
       "      <td>NaN</td>\n",
       "    </tr>\n",
       "  </tbody>\n",
       "</table>\n",
       "</div>"
      ],
      "text/plain": [
       "      open    close  24\n",
       "0  1.47352  1.47354 NaN\n",
       "1  1.47343  1.47356 NaN\n",
       "2  1.47364  1.47278 NaN"
      ]
     },
     "execution_count": 5,
     "metadata": {},
     "output_type": "execute_result"
    }
   ],
   "source": [
    "window_24.head(3)"
   ]
  },
  {
   "cell_type": "code",
   "execution_count": 6,
   "metadata": {},
   "outputs": [
    {
     "data": {
      "text/plain": [
       "\u001b[1;31mSignature:\u001b[0m\n",
       " \u001b[0msimulate_thresh_test_trade\u001b[0m\u001b[1;33m(\u001b[0m\u001b[1;33m\n",
       "\u001b[0m    \u001b[0msequence\u001b[0m\u001b[1;33m,\u001b[0m\u001b[1;33m\n",
       "\u001b[0m    \u001b[0mbuy_threshold\u001b[0m\u001b[1;33m,\u001b[0m\u001b[1;33m\n",
       "\u001b[0m    \u001b[0msell_threshold\u001b[0m\u001b[1;33m,\u001b[0m\u001b[1;33m\n",
       "\u001b[0m    \u001b[0mstart_cap\u001b[0m\u001b[1;33m,\u001b[0m\u001b[1;33m\n",
       "\u001b[0m    \u001b[0mprint_trades\u001b[0m\u001b[1;33m=\u001b[0m\u001b[1;32mTrue\u001b[0m\u001b[1;33m,\u001b[0m\u001b[1;33m\n",
       "\u001b[0m    \u001b[0mreturn_attr\u001b[0m\u001b[1;33m=\u001b[0m\u001b[1;32mTrue\u001b[0m\u001b[1;33m,\u001b[0m\u001b[1;33m\n",
       "\u001b[0m\u001b[1;33m)\u001b[0m\u001b[1;33m\u001b[0m\u001b[1;33m\u001b[0m\u001b[0m\n",
       "\u001b[1;31mDocstring:\u001b[0m\n",
       "This function will simulate a trade when given a sequence dataframe with a specific column holding percentage change values. \n",
       "\n",
       "This is an 'absolute' ideal trading simulation in which the threshold simulates what a product will produce. We are assuming we get every trade right\n",
       "\n",
       "ARGS:\n",
       "    sequence: <pandas.DataFrame> should contain: open, close, percentage change: example ['24'] represent percent change in 24 hour window.\n",
       "        column 1 = open or close\n",
       "        column 2 = open or close\n",
       "        column 3 = change window: example: '24' = 24 hour window\n",
       "    \n",
       "    buy_threshold: <float> represents how much % of a change in sequence['change_window'] must there be for this to be a buy?\n",
       "    \n",
       "    sell_threshold: <float> represents the same as buy but for selling the asset\n",
       "    \n",
       "    start_cap: <int or float> represents our starting capital\n",
       "    \n",
       "    window_size: <int> represents how large of a window this can also be set from int(sequence['change_window'])\n",
       "    \n",
       "    print_trades: <boolean> if True, this will print every trade made \n",
       "\n",
       "RETURNS:\n",
       "    start_cap, bc, roi, buy_threshold, sell_threshold, change_window\n",
       "\n",
       "ALGORITHM:\n",
       "if pn0 > x && bc > 0 && h == 0:\n",
       "    grab opening price tn0\n",
       "    buy shares with bc at tn0\n",
       "    update bc to 0\n",
       "    next el\n",
       "\n",
       "# sell and wait\n",
       "if pn0 < tn0 && bc == 0 && h > 0:\n",
       "    grab tnf\n",
       "    sell h at tnf (h * tnf)\n",
       "    update bc to (h * tnf)\n",
       "    update h to 0\n",
       "    next el\n",
       "\n",
       "else:\n",
       "    pass\n",
       "\u001b[1;31mFile:\u001b[0m      c:\\users\\dmber\\documents\\omega\\omegadev\\model_z\\omega_simulate.py\n",
       "\u001b[1;31mType:\u001b[0m      function\n"
      ]
     },
     "metadata": {},
     "output_type": "display_data"
    }
   ],
   "source": [
    "? simulate_thresh_test_trade"
   ]
  },
  {
   "cell_type": "code",
   "execution_count": 7,
   "metadata": {},
   "outputs": [
    {
     "name": "stdout",
     "output_type": "stream",
     "text": [
      "Starting capital: 300000\n",
      "Ending capital: 605145.9557600002\n",
      "Return on investment: 201%\n",
      "Total Transaction cost: 2745.97568\n"
     ]
    }
   ],
   "source": [
    "# parameters\n",
    "buying_threshold = 0.01 \n",
    "selling_threshold = 0.00\n",
    "starting_capital = 300000\n",
    "\n",
    "# running simulation\n",
    "simulate_thresh_test_trade(sequence=window_24, buy_threshold=buying_threshold, sell_threshold=selling_threshold, start_cap=starting_capital, print_trades=False, return_attr=False)"
   ]
  },
  {
   "cell_type": "code",
   "execution_count": 15,
   "metadata": {},
   "outputs": [
    {
     "name": "stdout",
     "output_type": "stream",
     "text": [
      "Selling off shares, a sell execution was not triggered but we are displaying this for the sake of displaying metrics\n",
      "Starting capital: 300000\n",
      "Ending capital: 667642.9488100003\n",
      "Return on investment: 222%\n",
      "Total Transaction cost: 18551.697220000013\n"
     ]
    }
   ],
   "source": [
    "# parameters\n",
    "buying_threshold = 0.001 # buy label - model \n",
    "selling_threshold = 0.0 # sell label - model\n",
    "starting_capital = 300000\n",
    "\n",
    "# running simulation\n",
    "simulate_thresh_test_trade(sequence=window_24, buy_threshold=buying_threshold, sell_threshold=selling_threshold, start_cap=starting_capital, print_trades=False, return_attr=False)"
   ]
  },
  {
   "cell_type": "code",
   "execution_count": null,
   "metadata": {},
   "outputs": [],
   "source": []
  },
  {
   "cell_type": "code",
   "execution_count": null,
   "metadata": {},
   "outputs": [],
   "source": []
  },
  {
   "cell_type": "code",
   "execution_count": null,
   "metadata": {},
   "outputs": [],
   "source": []
  },
  {
   "cell_type": "code",
   "execution_count": null,
   "metadata": {},
   "outputs": [],
   "source": []
  },
  {
   "cell_type": "code",
   "execution_count": null,
   "metadata": {},
   "outputs": [],
   "source": []
  },
  {
   "cell_type": "code",
   "execution_count": null,
   "metadata": {},
   "outputs": [],
   "source": []
  },
  {
   "cell_type": "code",
   "execution_count": null,
   "metadata": {},
   "outputs": [],
   "source": []
  },
  {
   "cell_type": "code",
   "execution_count": null,
   "metadata": {},
   "outputs": [],
   "source": []
  },
  {
   "cell_type": "code",
   "execution_count": null,
   "metadata": {},
   "outputs": [],
   "source": []
  }
 ],
 "metadata": {
  "kernelspec": {
   "display_name": "Python 3",
   "language": "python",
   "name": "python3"
  },
  "language_info": {
   "codemirror_mode": {
    "name": "ipython",
    "version": 3
   },
   "file_extension": ".py",
   "mimetype": "text/x-python",
   "name": "python",
   "nbconvert_exporter": "python",
   "pygments_lexer": "ipython3",
   "version": "3.7.3"
  }
 },
 "nbformat": 4,
 "nbformat_minor": 2
}
